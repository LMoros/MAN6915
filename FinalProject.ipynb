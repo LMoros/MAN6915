{
 "cells": [
  {
   "cell_type": "code",
   "execution_count": 1,
   "metadata": {
    "collapsed": false
   },
   "outputs": [],
   "source": [
    "from os import listdir\n",
    "from os.path import isfile, join \n",
    "import numpy as np\n",
    "import pandas as pd \n",
    "import datetime as dt\n",
    "\n",
    "path=\"C:/Users/Luis Moros/Documents/GitHub/MAN6915/FinalProject\""
   ]
  },
  {
   "cell_type": "code",
   "execution_count": 2,
   "metadata": {
    "collapsed": false
   },
   "outputs": [],
   "source": [
    "def obtainRawFileNames(path,ext):\n",
    "    extension = ext if \".\" in ext else \".{}\".format(ext)\n",
    "    return [\"{}/{}\".format(path,f) \n",
    "            for f in listdir(path)\n",
    "            if isfile(join(path, f)) \n",
    "            and f.endswith(extension)]"
   ]
  },
  {
   "cell_type": "code",
   "execution_count": 3,
   "metadata": {
    "collapsed": false
   },
   "outputs": [],
   "source": [
    "def normalizedFields(line, separator):\n",
    "    fields = [field.replace('|', ' ') for field in line.split(',')]\n",
    "    if len(fields)<4:\n",
    "        return \"\"\n",
    "    return separator.join((fields[0], \" \".join(fields[1:-2]), fields[-2], fields[-1]))"
   ]
  },
  {
   "cell_type": "code",
   "execution_count": 4,
   "metadata": {
    "collapsed": true
   },
   "outputs": [],
   "source": [
    "def filterEmptyLines(lines):\n",
    "    return (line for line in lines if line != \"\")"
   ]
  },
  {
   "cell_type": "code",
   "execution_count": 5,
   "metadata": {
    "collapsed": false
   },
   "outputs": [],
   "source": [
    "def replaceComasByPipes(path):\n",
    "    with open(path, 'r', encoding=\"Latin-1\") as file :\n",
    "        filedata = file.read()\n",
    "    \n",
    "    filelines = filterEmptyLines(\n",
    "                    (normalizedFields(line, '|') \n",
    "                     for line in filedata.split('\\n')))\n",
    "\n",
    "    # Write the file out again\n",
    "    with open(path.replace('.','_cleaned.'), 'w', encoding=\"Latin-1\") as file:\n",
    "        file.write(\"\\n\".join(filelines))"
   ]
  },
  {
   "cell_type": "code",
   "execution_count": 6,
   "metadata": {
    "collapsed": false
   },
   "outputs": [
    {
     "name": "stdout",
     "output_type": "stream",
     "text": [
      "C:/Users/Luis Moros/Documents/GitHub/MAN6915/FinalProject/assigned_to.csv\n",
      "C:/Users/Luis Moros/Documents/GitHub/MAN6915/FinalProject/bug_status.csv\n",
      "C:/Users/Luis Moros/Documents/GitHub/MAN6915/FinalProject/cc.csv\n",
      "C:/Users/Luis Moros/Documents/GitHub/MAN6915/FinalProject/component.csv\n",
      "C:/Users/Luis Moros/Documents/GitHub/MAN6915/FinalProject/op_sys.csv\n",
      "C:/Users/Luis Moros/Documents/GitHub/MAN6915/FinalProject/priority.csv\n",
      "C:/Users/Luis Moros/Documents/GitHub/MAN6915/FinalProject/product.csv\n",
      "C:/Users/Luis Moros/Documents/GitHub/MAN6915/FinalProject/reports.csv\n",
      "C:/Users/Luis Moros/Documents/GitHub/MAN6915/FinalProject/resolution.csv\n",
      "C:/Users/Luis Moros/Documents/GitHub/MAN6915/FinalProject/severity.csv\n",
      "C:/Users/Luis Moros/Documents/GitHub/MAN6915/FinalProject/short_desc.csv\n",
      "C:/Users/Luis Moros/Documents/GitHub/MAN6915/FinalProject/version.csv\n"
     ]
    }
   ],
   "source": [
    "print(\"\\n\".join(obtainRawFileNames(\n",
    "                path,\n",
    "                \"csv\"\n",
    "        )))"
   ]
  },
  {
   "cell_type": "code",
   "execution_count": 7,
   "metadata": {
    "collapsed": false
   },
   "outputs": [],
   "source": [
    "for file in obtainRawFileNames(path, \"csv\"):\n",
    "    replaceComasByPipes(file)       "
   ]
  },
  {
   "cell_type": "code",
   "execution_count": 10,
   "metadata": {
    "collapsed": false
   },
   "outputs": [
    {
     "data": {
      "text/plain": [
       "(352342, 4)"
      ]
     },
     "execution_count": 10,
     "metadata": {},
     "output_type": "execute_result"
    }
   ],
   "source": [
    "durationDf = pd.read_csv(\"{}/{}\".format(path,\"resolution_cleaned.csv\"),sep='|')\n",
    "durationDf.shape                 "
   ]
  },
  {
   "cell_type": "code",
   "execution_count": 11,
   "metadata": {
    "collapsed": false
   },
   "outputs": [
    {
     "name": "stdout",
     "output_type": "stream",
     "text": [
      "            id        what        when    who     duration\n",
      "1       287145   DUPLICATE  1250739410   1760     759674.0\n",
      "2       121995         NaN  1135315440   3686   17434559.0\n",
      "3       320590         NaN  1279761012  90578   18125013.0\n",
      "4       320590   DUPLICATE  1281727501     18   12253962.0\n",
      "5       287149         NaN  1250734801  17941     136556.0\n",
      "6       287149       FIXED  1251110004   5470   10353286.0\n",
      "7        51829         NaN  1076571036   3367  112650241.0\n",
      "8        51829       FIXED  1209053023   5470     137820.0\n",
      "9        89372         NaN  1112090626   2478     137850.0\n",
      "10       89372   DUPLICATE  1112092639   1068     138040.0\n",
      "11       89373         NaN  1112090753   1961     138488.0\n",
      "12       89373   DUPLICATE  1176473814     34     138555.0\n",
      "13       89374         NaN  1112091035     57     138600.0\n",
      "14       89374  WORKSFORME  1112118360   3481     672060.0\n",
      "15       89374         NaN  1112122380   3481    1791037.0\n",
      "16       89374       FIXED  1112627442   3481   10433316.0\n",
      "17       89375         NaN  1112091098   2478   16136104.0\n",
      "18       89375   DUPLICATE  1118567617   2478     138722.0\n",
      "19       89376         NaN  1112091324   8129   97290181.0\n",
      "20       89376  WORKSFORME  1112092339   5624   17074884.0\n",
      "21       89376         NaN  1112708399   8129  112646160.0\n",
      "22       89376  WORKSFORME  1112775703   5624     154493.0\n",
      "23       89378         NaN  1112092461   8126    9748106.0\n",
      "24       89378       FIXED  1112969646    481     501708.0\n",
      "25       89379         NaN  1112094306    261   41022888.0\n",
      "26       89379   DUPLICATE  1112109902   3481   10338117.0\n",
      "27      246175         NaN  1220488960  47544     154799.0\n",
      "28      246175  WORKSFORME  1240563898   8707   15790702.0\n",
      "29      246175         NaN  1256789795  47544    2304900.0\n",
      "30      246175  WORKSFORME  1258006040  27609  238861860.0\n",
      "...        ...         ...         ...    ...          ...\n",
      "344959   36572         NaN  1050483002   3626   52332389.0\n",
      "344966   36575   DUPLICATE  1050569802     34       8516.0\n",
      "344972   46129       FIXED  1068126092    967   52328361.0\n",
      "344976  328077       FIXED  1287497281     54       4831.0\n",
      "344983   63887       FIXED  1085490184     37   52325853.0\n",
      "344984   63884         NaN  1085476628     46   52325713.0\n",
      "344988   63882         NaN  1085476181   4985        127.0\n",
      "344992   63880         NaN  1085476126   8243         16.0\n",
      "344996   20906         NaN  1024919911   1249       1092.0\n",
      "345001   20907       LATER  1024996855     24        819.0\n",
      "345003   20907   DUPLICATE  1028031044     13   52318054.0\n",
      "345004   20904         NaN  1024918788    481   52316779.0\n",
      "345007   20905       FIXED  1035207946     64     129099.0\n",
      "345009   20902  WORKSFORME  1027688621     53   52313048.0\n",
      "345014   20900         NaN  1024917637     27       5407.0\n",
      "345016   20900         NaN  1030540665     54   52311433.0\n",
      "345017   20900  WORKSFORME  1030540680     54   52310521.0\n",
      "345018   20901         NaN  1024918252    253         83.0\n",
      "345019   20901       FIXED  1029165274     30         64.0\n",
      "345020  187500         NaN  1179371461   1907   52309353.0\n",
      "345024   20908         NaN  1027571551     24   52307426.0\n",
      "345026   20909         NaN  1024921256     53         72.0\n",
      "345028   99172         NaN  1118309676  12687        250.0\n",
      "345029   99172       FIXED  1118323594   4440   52306038.0\n",
      "345045  335656   DUPLICATE  1296181287     39   52289869.0\n",
      "345050  278627         NaN  1243846699  33743   52264330.0\n",
      "345051  261230         NaN  1232021181    481   52264040.0\n",
      "345052  261230       FIXED  1232554589    481   52263000.0\n",
      "345054  278625       FIXED  1247653399    481   52239691.0\n",
      "345065  194214         NaN  1182760728  38999   52211299.0\n",
      "\n",
      "[165547 rows x 5 columns]\n"
     ]
    }
   ],
   "source": [
    "def calculateDuration(x):\n",
    "    if len(x) ==1:\n",
    "        arbitraryMax = ((dt.datetime(2013,1,1) - dt.datetime(1970,1,1)).total_seconds())\n",
    "        return arbitraryMax - min(x) \n",
    "    return max(x) - min(x)\n",
    "    \n",
    "durationDf.sort_values(\"id\")\n",
    "durationDf[\"when\"] = durationDf[\"when\"].apply(pd.to_numeric)\n",
    "durationDf[\"duration\"] = durationDf.groupby(\"id\")[\"when\"].apply(calculateDuration)\n",
    "durationDf = durationDf[np.isnan(durationDf[\"duration\"])!=True]\n",
    "print(durationDf)"
   ]
  },
  {
   "cell_type": "code",
   "execution_count": 12,
   "metadata": {
    "collapsed": false
   },
   "outputs": [
    {
     "data": {
      "text/plain": [
       "(352915, 4)"
      ]
     },
     "execution_count": 12,
     "metadata": {},
     "output_type": "execute_result"
    }
   ],
   "source": [
    "ccDf = pd.read_csv(\"{}/{}\".format(path,\"cc_cleaned.csv\"),sep='|')\n",
    "ccDf.shape "
   ]
  },
  {
   "cell_type": "code",
   "execution_count": 18,
   "metadata": {
    "collapsed": false
   },
   "outputs": [
    {
     "name": "stdout",
     "output_type": "stream",
     "text": [
      "            id                                               what        when  \\\n",
      "2       287145                           daniel_megert@ch.ibm.com  1250815849   \n",
      "4        23774                                                NaN  1032355990   \n",
      "6       287149                                                NaN  1250734801   \n",
      "7       287149                                    loskutov@gmx.de  1250736569   \n",
      "9       287149                          Silenio_Quarti@ca.ibm.com  1250768165   \n",
      "11      287149                     martin.oberhuber@windriver.com  1254761897   \n",
      "18       89374                            eclipse@tom.eicher.name  1112093057   \n",
      "19       89375                                                NaN  1112091098   \n",
      "20       89375                                  nj@macromedia.com  1112277421   \n",
      "28       89378                                    fuse@jp.ibm.com  1112966846   \n",
      "30       89378                                     hoy@jp.ibm.com  1118745571   \n",
      "32       89379                                                NaN  1112094306   \n",
      "34      256902                                                NaN  1227863779   \n",
      "37      123851                     benjamin.cabe@anyware-tech.com  1202223237   \n",
      "40      256900                       benno_baumgartner@ch.ibm.com  1228100472   \n",
      "42      256900                           daniel_megert@ch.ibm.com  1228119981   \n",
      "44      256901                                                NaN  1227862466   \n",
      "45      256901                           daniel_megert@ch.ibm.com  1227866870   \n",
      "48      256906  felipe_heidrich@ca.ibm.com; steve_northover@ca...  1242140141   \n",
      "49       36607                                                NaN  1050508273   \n",
      "50        5982                                                NaN  1005837543   \n",
      "51        5983                                                NaN  1005838164   \n",
      "53        5980                           j.wilson@searchspace.com  1015990833   \n",
      "54        5980                                   tug@wilson.co.uk  1015990833   \n",
      "55        5981                                                NaN  1005828782   \n",
      "56        5986                                                NaN  1005840112   \n",
      "57        5987                                                NaN  1005842737   \n",
      "58        5984                                                NaN  1005839319   \n",
      "61      103548           kitlo@us.ibm.com; Tod_Creasey@ca.ibm.com  1121241494   \n",
      "62      103548                         Karice_McIntyre@ca.ibm.com  1126784083   \n",
      "...        ...                                                ...         ...   \n",
      "344883   90056                                                NaN  1112367403   \n",
      "344887   13247                                                NaN  1018423022   \n",
      "344890   90052                        pascal_rapicault@ca.ibm.com  1112367153   \n",
      "344892   90052                            jeff_mcaffer@ca.ibm.com  1112368137   \n",
      "344894   90052                                bkonrath@redhat.com  1112705353   \n",
      "344898   90052                                 sylvain@apache.org  1121909913   \n",
      "344911  269911                                                NaN  1237918542   \n",
      "344913  269916                                                NaN  1237923577   \n",
      "344914  269916                                  zqian@actuate.com  1237954813   \n",
      "344920    2851                                                NaN  1002746682   \n",
      "344932    2855                                    loskutov@gmx.de  1251185111   \n",
      "344941    2857                               John_Wiegand@oti.com  1037876360   \n",
      "344949  129540                         felipe_heidrich@ca.ibm.com  1141378113   \n",
      "344966  217850                                                NaN  1202205742   \n",
      "344972  217855                                                NaN  1202207003   \n",
      "344976  155865                                                NaN  1157024892   \n",
      "345001   57973                                                NaN  1081444243   \n",
      "345003  297728      john_arthorne@ca.ibm.com; serge@freescale.com  1260774232   \n",
      "345004   55487                                                NaN  1079897833   \n",
      "345007  280227                                   cgold@us.ibm.com  1245059377   \n",
      "345009  280220                             david_audel@fr.ibm.com  1245045522   \n",
      "345014   32481                                                NaN  1045814995   \n",
      "345016  288430                                                NaN  1251935162   \n",
      "345017  288430  daniel_megert@ch.ibm.com; eclipse@tom.eicher.name  1251938913   \n",
      "345018  288430             stefan.thurnherr+eclipsebugs@gmail.com  1256009736   \n",
      "345019  288430                           christian.georgi@sap.com  1278582088   \n",
      "345020   51862                                                NaN  1076583255   \n",
      "345029  288436                                krbarnes@ca.ibm.com  1255701299   \n",
      "345051  222962                                 aniefer@ca.ibm.com  1217426751   \n",
      "345054  222961                                 aniefer@ca.ibm.com  1276856465   \n",
      "\n",
      "          who  totalCcs  \n",
      "2          39       2.0  \n",
      "4          37       0.0  \n",
      "6       17941       0.0  \n",
      "7        4787       0.0  \n",
      "9        5470       0.0  \n",
      "11      13001       0.0  \n",
      "18       4438       0.0  \n",
      "19       2478       0.0  \n",
      "20       1068       0.0  \n",
      "28        481       0.0  \n",
      "30        481       2.0  \n",
      "32        261       0.0  \n",
      "34         13       1.0  \n",
      "37      31741       0.0  \n",
      "40      20493       0.0  \n",
      "42         39       0.0  \n",
      "44      49950       0.0  \n",
      "45         39       0.0  \n",
      "48        481       0.0  \n",
      "49       3953       0.0  \n",
      "50        168       0.0  \n",
      "51        183       0.0  \n",
      "53        706       0.0  \n",
      "54        706       0.0  \n",
      "55         30       0.0  \n",
      "56         45       0.0  \n",
      "57         24       0.0  \n",
      "58         49       0.0  \n",
      "61         84       0.0  \n",
      "62         12       0.0  \n",
      "...       ...       ...  \n",
      "344883     57       2.0  \n",
      "344887     32       0.0  \n",
      "344890   2478       0.0  \n",
      "344892     36       0.0  \n",
      "344894  15049       0.0  \n",
      "344898  19383       0.0  \n",
      "344911  21297       1.0  \n",
      "344913  31807       1.0  \n",
      "344914  15839       3.0  \n",
      "344920     38       1.0  \n",
      "344932   4787       1.0  \n",
      "344941     31       1.0  \n",
      "344949    481       1.0  \n",
      "344966     54       0.0  \n",
      "344972     54       0.0  \n",
      "344976   1068       0.0  \n",
      "345001    469       1.0  \n",
      "345003  26706       0.0  \n",
      "345004    583       2.0  \n",
      "345007  12633       1.0  \n",
      "345009     41       1.0  \n",
      "345014     61       1.0  \n",
      "345016   7773       0.0  \n",
      "345017     39       1.0  \n",
      "345018  48355       0.0  \n",
      "345019   4438       0.0  \n",
      "345020     51       0.0  \n",
      "345029   7919       1.0  \n",
      "345051   4440       1.0  \n",
      "345054   4440       0.0  \n",
      "\n",
      "[96952 rows x 5 columns]\n"
     ]
    }
   ],
   "source": [
    "def calculateTotalCcs(x):\n",
    "    ccs = x.str.split(';').count()\n",
    "    return ccs\n",
    "    \n",
    "ccDf.sort_values(\"id\")\n",
    "ccDf[\"totalCcs\"] = ccDf.groupby(\"id\")[\"what\"].apply(calculateTotalCcs)\n",
    "ccDf = ccDf[np.isnan(ccDf[\"totalCcs\"])!=True]\n",
    "print(ccDf)"
   ]
  },
  {
   "cell_type": "code",
   "execution_count": 20,
   "metadata": {
    "collapsed": false
   },
   "outputs": [
    {
     "data": {
      "text/plain": [
       "(165547, 4)"
      ]
     },
     "execution_count": 20,
     "metadata": {},
     "output_type": "execute_result"
    }
   ],
   "source": [
    "openMonthDf = pd.read_csv(\"{}/{}\".format(path,\"reports_cleaned.csv\"),sep='|')\n",
    "openMonthDf.shape "
   ]
  },
  {
   "cell_type": "code",
   "execution_count": 29,
   "metadata": {
    "collapsed": false
   },
   "outputs": [
    {
     "name": "stdout",
     "output_type": "stream",
     "text": [
      "            id current_resolution current_status     opening  reporter  \\\n",
      "0        50088               WORKSFORME RESOLVED  1074167758        11   \n",
      "1       287145                DUPLICATE RESOLVED  1250730717      6254   \n",
      "2       121995                          ASSIGNED  1135315440      3686   \n",
      "3        29687                DUPLICATE RESOLVED  1042765523      3252   \n",
      "4       274909                DUPLICATE RESOLVED  1241453258     58917   \n",
      "5       320590                DUPLICATE RESOLVED  1279761012     90578   \n",
      "6       287149                    FIXED RESOLVED  1250734801     17941   \n",
      "7        89372                DUPLICATE RESOLVED  1112090626      2478   \n",
      "8        89373                DUPLICATE RESOLVED  1112090753      1961   \n",
      "9        89374                    FIXED VERIFIED  1112091035        57   \n",
      "10       89375                DUPLICATE RESOLVED  1112091098      2478   \n",
      "11       89376                 WORKSFORME CLOSED  1112091324      8129   \n",
      "12       89378                      FIXED CLOSED  1112092461      8126   \n",
      "13       89379                DUPLICATE RESOLVED  1112094306       261   \n",
      "14      246175               WORKSFORME RESOLVED  1220488960     47544   \n",
      "15      256902                    FIXED VERIFIED  1227863779        13   \n",
      "16       36606                DUPLICATE RESOLVED  1050506828      3957   \n",
      "17        5988                    FIXED VERIFIED  1005844787       179   \n",
      "18      256901               WORKSFORME RESOLVED  1227862466     49950   \n",
      "19      256906                  WONTFIX RESOLVED  1227866062     56681   \n",
      "20       31738                    FIXED RESOLVED  1045090738      1169   \n",
      "21      314424                               NEW  1274846104     27517   \n",
      "22       83892                DUPLICATE RESOLVED  1106847155     15317   \n",
      "23        5982                    FIXED RESOLVED  1005837543       168   \n",
      "24        5983                    FIXED RESOLVED  1005838164       183   \n",
      "25        5980                  INVALID RESOLVED  1005828594        37   \n",
      "26        5981               WORKSFORME RESOLVED  1005828782        30   \n",
      "27        5986                    FIXED RESOLVED  1005840112        45   \n",
      "28        5987               WORKSFORME RESOLVED  1005842737        24   \n",
      "29        5984                DUPLICATE RESOLVED  1005839319        49   \n",
      "...        ...                               ...         ...       ...   \n",
      "165517  238409                    FIXED RESOLVED  1214379999     25606   \n",
      "165518   38340                    FIXED RESOLVED  1054555082        65   \n",
      "165519   13823                    FIXED RESOLVED  1018877974        48   \n",
      "165520   13822                    FIXED RESOLVED  1018877926       261   \n",
      "165521   13821                    FIXED RESOLVED  1018876220        51   \n",
      "165522   13820               WORKSFORME RESOLVED  1018876131       678   \n",
      "165523  282244                               NEW  1246495993     36204   \n",
      "165524   13826                    FIXED RESOLVED  1018878625       584   \n",
      "165525   13825                    FIXED RESOLVED  1018878618       678   \n",
      "165526   13824               WORKSFORME RESOLVED  1018878421       678   \n",
      "165527   96209                DUPLICATE RESOLVED  1116644161       104   \n",
      "165528  103094                DUPLICATE RESOLVED  1120752378     19022   \n",
      "165529   87385                    FIXED RESOLVED  1110275276        34   \n",
      "165530   96200               WORKSFORME RESOLVED  1116616606       698   \n",
      "165531   38345                DUPLICATE RESOLVED  1054562916      3079   \n",
      "165532   96202                    FIXED VERIFIED  1116619455     17407   \n",
      "165533   96203                DUPLICATE RESOLVED  1116624230     11509   \n",
      "165534   96204                DUPLICATE RESOLVED  1116627782      8826   \n",
      "165535   13353                DUPLICATE RESOLVED  1018430899         8   \n",
      "165536   96207                DUPLICATE RESOLVED  1116641200     17759   \n",
      "165537   99683               WORKSFORME RESOLVED  1118653740      5544   \n",
      "165538  229326                    FIXED VERIFIED  1209457317      4861   \n",
      "165539  229327                    FIXED RESOLVED  1209457387     16489   \n",
      "165540  229320                               NEW  1209457033     45432   \n",
      "165541  245359                    FIXED RESOLVED  1219806344     51760   \n",
      "165542   65395                DUPLICATE RESOLVED  1086175774        53   \n",
      "165543  199901                  WONTFIX RESOLVED  1187086010     40546   \n",
      "165544   38346                DUPLICATE RESOLVED  1054563252      3472   \n",
      "165545  229328                               NEW  1209457469     43785   \n",
      "165546   87389                  WONTFIX RESOLVED  1110275799        34   \n",
      "\n",
      "        openMonth  \n",
      "0               1  \n",
      "1               8  \n",
      "2              12  \n",
      "3               1  \n",
      "4               5  \n",
      "5               7  \n",
      "6               8  \n",
      "7               3  \n",
      "8               3  \n",
      "9               3  \n",
      "10              3  \n",
      "11              3  \n",
      "12              3  \n",
      "13              3  \n",
      "14              9  \n",
      "15             11  \n",
      "16              4  \n",
      "17             11  \n",
      "18             11  \n",
      "19             11  \n",
      "20              2  \n",
      "21              5  \n",
      "22              1  \n",
      "23             11  \n",
      "24             11  \n",
      "25             11  \n",
      "26             11  \n",
      "27             11  \n",
      "28             11  \n",
      "29             11  \n",
      "...           ...  \n",
      "165517          6  \n",
      "165518          6  \n",
      "165519          4  \n",
      "165520          4  \n",
      "165521          4  \n",
      "165522          4  \n",
      "165523          7  \n",
      "165524          4  \n",
      "165525          4  \n",
      "165526          4  \n",
      "165527          5  \n",
      "165528          7  \n",
      "165529          3  \n",
      "165530          5  \n",
      "165531          6  \n",
      "165532          5  \n",
      "165533          5  \n",
      "165534          5  \n",
      "165535          4  \n",
      "165536          5  \n",
      "165537          6  \n",
      "165538          4  \n",
      "165539          4  \n",
      "165540          4  \n",
      "165541          8  \n",
      "165542          6  \n",
      "165543          8  \n",
      "165544          6  \n",
      "165545          4  \n",
      "165546          3  \n",
      "\n",
      "[165547 rows x 5 columns]\n"
     ]
    }
   ],
   "source": [
    "def calculateOpenMonth(column):\n",
    "    dates = pd.to_datetime(column,unit='s')\n",
    "    return dates.map(lambda x : x.month)\n",
    "    \n",
    "openMonthDf.sort_values(\"id\")\n",
    "openMonthDf[\"opening\"] = openMonthDf[\"opening\"].apply(pd.to_numeric)\n",
    "openMonthDf[\"openMonth\"] = openMonthDf.groupby(\"id\")[\"opening\"].apply(calculateOpenMonth)\n",
    "print(openMonthDf)"
   ]
  },
  {
   "cell_type": "code",
   "execution_count": 36,
   "metadata": {
    "collapsed": false
   },
   "outputs": [
    {
     "name": "stdout",
     "output_type": "stream",
     "text": [
      "            id         what        when    who\n",
      "0        50088       normal  1074167758     11\n",
      "1       287145       normal  1250730717   6254\n",
      "2       121995       normal  1135315440   3686\n",
      "3        29687       normal  1042765523   3252\n",
      "4        23774        major  1032355990     37\n",
      "5        66285       normal  1086765710  10787\n",
      "6       320590       normal  1279761012  90578\n",
      "7       287149       normal  1250734801  17941\n",
      "8        51829       normal  1076571036   3367\n",
      "9        89372       normal  1112090626   2478\n",
      "10       89373       normal  1112090753   1961\n",
      "11       89374       normal  1112091035     57\n",
      "12       89375       normal  1112091098   2478\n",
      "13       89376       normal  1112091324   8129\n",
      "14       89378       normal  1112092461   8126\n",
      "15       89379       normal  1112094306    261\n",
      "16      246175        major  1220488960  47544\n",
      "17      256902        major  1227863779     13\n",
      "18       36606       normal  1050506828   3957\n",
      "19        5988       normal  1005844787    179\n",
      "20      256901       normal  1227862466  49950\n",
      "21      255969        minor  1227168930   1760\n",
      "22      314424  enhancement  1274846104  27517\n",
      "23       83892        major  1106847155  15317\n",
      "24        5982      trivial  1005837543    168\n",
      "25        5983       normal  1005838164    183\n",
      "26        5980       normal  1005828594     37\n",
      "27        5981       normal  1005828782     30\n",
      "28        5986       normal  1005840112     45\n",
      "29        5987       normal  1005842737     24\n",
      "...        ...          ...         ...    ...\n",
      "181966   13823       normal  1018877974     48\n",
      "181967   13822  enhancement  1018877926    261\n",
      "181968   13821       normal  1018876220     51\n",
      "181969   13821        major  1018877230     57\n",
      "181970   13820       normal  1018876131    678\n",
      "181971  282244  enhancement  1246495993  36204\n",
      "181972   38343       normal  1054560382   2444\n",
      "181973   13825       normal  1018878618    678\n",
      "181974   13824       normal  1018878421    678\n",
      "181975   96209       normal  1116644161    104\n",
      "181976  103094        minor  1120752378  19022\n",
      "181977   87385       normal  1110275276     34\n",
      "181978   96200       normal  1116616606    698\n",
      "181979   38345        major  1054562916   3079\n",
      "181980   96202       normal  1116619455  17407\n",
      "181981  175356       normal  1172237058   1760\n",
      "181982   96204       normal  1116627782   8826\n",
      "181983   13353       normal  1018430899      8\n",
      "181984   96207        minor  1116641200  17759\n",
      "181985   99683       normal  1118653740   5544\n",
      "181986  229326       normal  1209457317   4861\n",
      "181987  229327       normal  1209457387  16489\n",
      "181988  229320  enhancement  1209457033  45432\n",
      "181989  245359       normal  1219806344  51760\n",
      "181990   65395       normal  1086175774     53\n",
      "181991  199901       normal  1187086010  40546\n",
      "181992   38346       normal  1054563252   3472\n",
      "181993  229328       normal  1209457469  43785\n",
      "181994   87389       normal  1110275799     34\n",
      "181995   87389        minor  1110355064     34\n",
      "\n",
      "[181996 rows x 4 columns]\n"
     ]
    }
   ],
   "source": [
    "severityDf = pd.read_csv(\"{}/{}\".format(path,\"severity_cleaned.csv\"),sep='|')\n",
    "print(severityDf)"
   ]
  },
  {
   "cell_type": "code",
   "execution_count": 40,
   "metadata": {
    "collapsed": false
   },
   "outputs": [
    {
     "name": "stdout",
     "output_type": "stream",
     "text": [
      "            id         what        when    who     severity\n",
      "0        50088       normal  1074167758     11       normal\n",
      "1       287145       normal  1250730717   6254       normal\n",
      "2       121995       normal  1135315440   3686       normal\n",
      "3        29687       normal  1042765523   3252       normal\n",
      "4        23774        major  1032355990     37        major\n",
      "5        66285       normal  1086765710  10787       normal\n",
      "6       320590       normal  1279761012  90578       normal\n",
      "7       287149       normal  1250734801  17941       normal\n",
      "8        51829       normal  1076571036   3367       normal\n",
      "9        89372       normal  1112090626   2478       normal\n",
      "10       89373       normal  1112090753   1961       normal\n",
      "11       89374       normal  1112091035     57       normal\n",
      "12       89375       normal  1112091098   2478       normal\n",
      "13       89376       normal  1112091324   8129       normal\n",
      "14       89378       normal  1112092461   8126       normal\n",
      "15       89379       normal  1112094306    261       normal\n",
      "16      246175        major  1220488960  47544        major\n",
      "17      256902        major  1227863779     13        major\n",
      "18       36606       normal  1050506828   3957       normal\n",
      "19        5988       normal  1005844787    179       normal\n",
      "20      256901       normal  1227862466  49950       normal\n",
      "21      255969        minor  1227168930   1760        minor\n",
      "22      314424  enhancement  1274846104  27517  enhancement\n",
      "23       83892        major  1106847155  15317        major\n",
      "24        5982      trivial  1005837543    168      trivial\n",
      "25        5983       normal  1005838164    183       normal\n",
      "26        5980       normal  1005828594     37       normal\n",
      "27        5981       normal  1005828782     30       normal\n",
      "28        5986       normal  1005840112     45       normal\n",
      "29        5987       normal  1005842737     24       normal\n",
      "...        ...          ...         ...    ...          ...\n",
      "181966   13823       normal  1018877974     48       normal\n",
      "181967   13822  enhancement  1018877926    261  enhancement\n",
      "181968   13821       normal  1018876220     51       normal\n",
      "181969   13821        major  1018877230     57        major\n",
      "181970   13820       normal  1018876131    678       normal\n",
      "181971  282244  enhancement  1246495993  36204  enhancement\n",
      "181972   38343       normal  1054560382   2444       normal\n",
      "181973   13825       normal  1018878618    678       normal\n",
      "181974   13824       normal  1018878421    678       normal\n",
      "181975   96209       normal  1116644161    104       normal\n",
      "181976  103094        minor  1120752378  19022        minor\n",
      "181977   87385       normal  1110275276     34       normal\n",
      "181978   96200       normal  1116616606    698       normal\n",
      "181979   38345        major  1054562916   3079        major\n",
      "181980   96202       normal  1116619455  17407       normal\n",
      "181981  175356       normal  1172237058   1760       normal\n",
      "181982   96204       normal  1116627782   8826       normal\n",
      "181983   13353       normal  1018430899      8       normal\n",
      "181984   96207        minor  1116641200  17759        minor\n",
      "181985   99683       normal  1118653740   5544       normal\n",
      "181986  229326       normal  1209457317   4861       normal\n",
      "181987  229327       normal  1209457387  16489       normal\n",
      "181988  229320  enhancement  1209457033  45432  enhancement\n",
      "181989  245359       normal  1219806344  51760       normal\n",
      "181990   65395       normal  1086175774     53       normal\n",
      "181991  199901       normal  1187086010  40546       normal\n",
      "181992   38346       normal  1054563252   3472       normal\n",
      "181993  229328       normal  1209457469  43785       normal\n",
      "181994   87389       normal  1110275799     34       normal\n",
      "181995   87389        minor  1110355064     34        minor\n",
      "\n",
      "[181996 rows x 5 columns]\n"
     ]
    }
   ],
   "source": [
    "def calculateSeverity(x):\n",
    "    return x\n",
    "    \n",
    "severityDf.sort_values(\"id\")\n",
    "severityDf[\"severity\"] = severityDf[\"what\"]\n",
    "severityDf.drop_duplicates(['id'])\n",
    "print(severityDf)"
   ]
  }
 ],
 "metadata": {
  "anaconda-cloud": {},
  "kernelspec": {
   "display_name": "Python [conda root]",
   "language": "python",
   "name": "conda-root-py"
  },
  "language_info": {
   "codemirror_mode": {
    "name": "ipython",
    "version": 3
   },
   "file_extension": ".py",
   "mimetype": "text/x-python",
   "name": "python",
   "nbconvert_exporter": "python",
   "pygments_lexer": "ipython3",
   "version": "3.5.2"
  }
 },
 "nbformat": 4,
 "nbformat_minor": 1
}
