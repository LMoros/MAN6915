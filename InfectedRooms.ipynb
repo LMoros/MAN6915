{
 "cells": [
  {
   "cell_type": "code",
   "execution_count": 1,
   "metadata": {
    "collapsed": false
   },
   "outputs": [],
   "source": [
    "import pandas as pd\n",
    "import numpy as np\n",
    "import random "
   ]
  },
  {
   "cell_type": "code",
   "execution_count": 2,
   "metadata": {
    "collapsed": false
   },
   "outputs": [],
   "source": [
    "class visitor:\n",
    "    def __init__(self, vid, building, numberOfFloors, roomsPerFloor,contagious):\n",
    "        self.id = vid\n",
    "        self.contagiousDegree = random.uniform(0.1,0.6) if contagious else 0\n",
    "        # define number of visit\n",
    "        numberOfVisits = random.randint(1, numberOfFloors * roomsPerFloor)\n",
    "        visitedRooms = []\n",
    "        self.itinerary = [self._decideRoom(building,numberOfFloors, roomsPerFloor, visitedRooms, None)\\\n",
    "                            for visit in range(1, numberOfVisits + 1)]\n",
    "\n",
    "    def _decideRoom(self, building, numberOfFloors, roomsPerFloor, visitedRooms, currentFloor):\n",
    "            while(True):\n",
    "                floor = self._decideFloor(building, numberOfFloors, currentFloor)\n",
    "                room = random.randint(1, roomsPerFloor)                \n",
    "                if (floor, room) not in visitedRooms:\n",
    "                    rid = -1\n",
    "                    for rm in building:\n",
    "                        if rm['room']==room and rm['floor']==floor:\n",
    "                            rid = rm['rid']\n",
    "                    visitedRooms.append((floor, room))\n",
    "                    return {'rid':rid, 'floor':floor, 'room':room, 'visitorId':self.id, 'contagiousDegree':self.contagiousDegree}\n",
    "\n",
    "    def _decideFloor(self, building, numberOfFloors: int, currentFloor: int):\n",
    "            if currentFloor==None:  # no current floor, has to be first room in itinerary             \n",
    "                # decide start floor\n",
    "                return random.randint(1, numberOfFloors)\n",
    "            else:\n",
    "                # decide if stay in current floor or move to another floor\n",
    "                stayInFloor = random.randint(0, 1)\n",
    "                if stayInFloor == 1:\n",
    "                    # stay in current floor\n",
    "                    return currentFloor\n",
    "\n",
    "                # else, move to another floor\n",
    "                # decide if use elevator\n",
    "                useElevator = random.randint(0, 1)\n",
    "                if useElevator == 1:\n",
    "                    # use elevator and move to any other floor in building (excpet current floor)\n",
    "                    while (True):\n",
    "                        nextFloor = random.randint(1, numberOfFloors)\n",
    "                        if nextFloor != currentFloor:\n",
    "                            return nextFloor\n",
    "\n",
    "                # else, don't use elevator, use stairs instead\n",
    "                goOneFloorUpstairs = random.randint(0, 1)\n",
    "                if goOneFloorUpstairs == 0 and currentFloor != 1:\n",
    "                    # don't go upstairs, go downstairs one floor\n",
    "                    return currentFloor - 1\n",
    "                    # else, go upstairs one floor\n",
    "                return currentFloor + 1"
   ]
  },
  {
   "cell_type": "code",
   "execution_count": 43,
   "metadata": {
    "collapsed": false
   },
   "outputs": [],
   "source": [
    "roomsPerFloor = 4\n",
    "numberOfFloors = 3\n",
    "numberOfVisitor= 5\n",
    "\n",
    "building = [{'rid': i, 'floor':f, 'room':r, 'susceptability':random.uniform(0,1)}\\\n",
    "            for i, (r,f) in enumerate(\\\n",
    "            [(room,floor)\\\n",
    "            for floor in range(1,numberOfFloors+1)\\\n",
    "            for room in range(1,roomsPerFloor+1)])]\n",
    "\n",
    "\n",
    "contagiousVisitor = random.randint(1,numberOfVisitor)\n",
    "\n",
    "itineraries = [visitor(vid,building, numberOfFloors, roomsPerFloor, contagiousVisitor==vid).itinerary\\\n",
    "          for vid in range(1,numberOfVisitor+1)]\n",
    "\n",
    "infected = [{'rid':r['rid'], 'floor':visit['floor'], 'room':visit['room']}\\\n",
    "            for itinerary in itineraries\n",
    "            for visit in itinerary\n",
    "            for r in building\n",
    "            if visit['contagiousDegree']>0 and\n",
    "               r['floor']==visit['floor'] and\n",
    "               r['room']==visit['room'] and\n",
    "               r['susceptability']+visit['contagiousDegree'] > 0.9]\n"
   ]
  },
  {
   "cell_type": "code",
   "execution_count": 44,
   "metadata": {
    "collapsed": false
   },
   "outputs": [
    {
     "name": "stdout",
     "output_type": "stream",
     "text": [
      "building\n"
     ]
    },
    {
     "data": {
      "text/html": [
       "<div>\n",
       "<table border=\"1\" class=\"dataframe\">\n",
       "  <thead>\n",
       "    <tr style=\"text-align: right;\">\n",
       "      <th></th>\n",
       "      <th>floor</th>\n",
       "      <th>rid</th>\n",
       "      <th>room</th>\n",
       "      <th>susceptability</th>\n",
       "    </tr>\n",
       "  </thead>\n",
       "  <tbody>\n",
       "    <tr>\n",
       "      <th>0</th>\n",
       "      <td>1</td>\n",
       "      <td>0</td>\n",
       "      <td>1</td>\n",
       "      <td>0.935709</td>\n",
       "    </tr>\n",
       "    <tr>\n",
       "      <th>1</th>\n",
       "      <td>1</td>\n",
       "      <td>1</td>\n",
       "      <td>2</td>\n",
       "      <td>0.522779</td>\n",
       "    </tr>\n",
       "    <tr>\n",
       "      <th>2</th>\n",
       "      <td>1</td>\n",
       "      <td>2</td>\n",
       "      <td>3</td>\n",
       "      <td>0.849844</td>\n",
       "    </tr>\n",
       "    <tr>\n",
       "      <th>3</th>\n",
       "      <td>1</td>\n",
       "      <td>3</td>\n",
       "      <td>4</td>\n",
       "      <td>0.405771</td>\n",
       "    </tr>\n",
       "    <tr>\n",
       "      <th>4</th>\n",
       "      <td>2</td>\n",
       "      <td>4</td>\n",
       "      <td>1</td>\n",
       "      <td>0.304995</td>\n",
       "    </tr>\n",
       "    <tr>\n",
       "      <th>5</th>\n",
       "      <td>2</td>\n",
       "      <td>5</td>\n",
       "      <td>2</td>\n",
       "      <td>0.932260</td>\n",
       "    </tr>\n",
       "    <tr>\n",
       "      <th>6</th>\n",
       "      <td>2</td>\n",
       "      <td>6</td>\n",
       "      <td>3</td>\n",
       "      <td>0.016201</td>\n",
       "    </tr>\n",
       "    <tr>\n",
       "      <th>7</th>\n",
       "      <td>2</td>\n",
       "      <td>7</td>\n",
       "      <td>4</td>\n",
       "      <td>0.972097</td>\n",
       "    </tr>\n",
       "    <tr>\n",
       "      <th>8</th>\n",
       "      <td>3</td>\n",
       "      <td>8</td>\n",
       "      <td>1</td>\n",
       "      <td>0.394200</td>\n",
       "    </tr>\n",
       "    <tr>\n",
       "      <th>9</th>\n",
       "      <td>3</td>\n",
       "      <td>9</td>\n",
       "      <td>2</td>\n",
       "      <td>0.892570</td>\n",
       "    </tr>\n",
       "    <tr>\n",
       "      <th>10</th>\n",
       "      <td>3</td>\n",
       "      <td>10</td>\n",
       "      <td>3</td>\n",
       "      <td>0.853340</td>\n",
       "    </tr>\n",
       "    <tr>\n",
       "      <th>11</th>\n",
       "      <td>3</td>\n",
       "      <td>11</td>\n",
       "      <td>4</td>\n",
       "      <td>0.165532</td>\n",
       "    </tr>\n",
       "  </tbody>\n",
       "</table>\n",
       "</div>"
      ],
      "text/plain": [
       "    floor  rid  room  susceptability\n",
       "0       1    0     1        0.935709\n",
       "1       1    1     2        0.522779\n",
       "2       1    2     3        0.849844\n",
       "3       1    3     4        0.405771\n",
       "4       2    4     1        0.304995\n",
       "5       2    5     2        0.932260\n",
       "6       2    6     3        0.016201\n",
       "7       2    7     4        0.972097\n",
       "8       3    8     1        0.394200\n",
       "9       3    9     2        0.892570\n",
       "10      3   10     3        0.853340\n",
       "11      3   11     4        0.165532"
      ]
     },
     "execution_count": 44,
     "metadata": {},
     "output_type": "execute_result"
    }
   ],
   "source": [
    "print('building')\n",
    "pd.DataFrame(building)"
   ]
  },
  {
   "cell_type": "code",
   "execution_count": 45,
   "metadata": {
    "collapsed": false
   },
   "outputs": [
    {
     "name": "stdout",
     "output_type": "stream",
     "text": [
      "itineraries\n",
      "rid: 10 floor: 3 room:3 vid: 1 contagiousDegree: 0\n",
      "rid: 11 floor: 3 room:4 vid: 1 contagiousDegree: 0\n",
      "rid: 4 floor: 2 room:1 vid: 1 contagiousDegree: 0\n",
      "rid: 7 floor: 2 room:4 vid: 1 contagiousDegree: 0\n",
      "rid: 6 floor: 2 room:3 vid: 1 contagiousDegree: 0\n",
      "rid: 1 floor: 1 room:2 vid: 1 contagiousDegree: 0\n",
      "rid: 1 floor: 1 room:2 vid: 2 contagiousDegree: 0.32704249784768646\n",
      "rid: 6 floor: 2 room:3 vid: 2 contagiousDegree: 0.32704249784768646\n",
      "rid: 11 floor: 3 room:4 vid: 2 contagiousDegree: 0.32704249784768646\n",
      "rid: 3 floor: 1 room:4 vid: 2 contagiousDegree: 0.32704249784768646\n",
      "rid: 2 floor: 1 room:3 vid: 2 contagiousDegree: 0.32704249784768646\n",
      "rid: 5 floor: 2 room:2 vid: 2 contagiousDegree: 0.32704249784768646\n",
      "rid: 9 floor: 3 room:2 vid: 2 contagiousDegree: 0.32704249784768646\n",
      "rid: 0 floor: 1 room:1 vid: 2 contagiousDegree: 0.32704249784768646\n",
      "rid: 10 floor: 3 room:3 vid: 2 contagiousDegree: 0.32704249784768646\n",
      "rid: 4 floor: 2 room:1 vid: 2 contagiousDegree: 0.32704249784768646\n",
      "rid: 7 floor: 2 room:4 vid: 2 contagiousDegree: 0.32704249784768646\n",
      "rid: 8 floor: 3 room:1 vid: 2 contagiousDegree: 0.32704249784768646\n",
      "rid: 10 floor: 3 room:3 vid: 3 contagiousDegree: 0\n",
      "rid: 9 floor: 3 room:2 vid: 3 contagiousDegree: 0\n",
      "rid: 11 floor: 3 room:4 vid: 3 contagiousDegree: 0\n",
      "rid: 7 floor: 2 room:4 vid: 4 contagiousDegree: 0\n",
      "rid: 8 floor: 3 room:1 vid: 4 contagiousDegree: 0\n",
      "rid: 3 floor: 1 room:4 vid: 4 contagiousDegree: 0\n",
      "rid: 2 floor: 1 room:3 vid: 4 contagiousDegree: 0\n",
      "rid: 4 floor: 2 room:1 vid: 4 contagiousDegree: 0\n",
      "rid: 1 floor: 1 room:2 vid: 4 contagiousDegree: 0\n",
      "rid: 10 floor: 3 room:3 vid: 5 contagiousDegree: 0\n"
     ]
    }
   ],
   "source": [
    "print('itineraries')\n",
    "print(\"\\n\".join([\"rid: {} floor: {} room:{} vid: {} contagiousDegree: {}\".format(\n",
    "                 r[\"rid\"],v[\"floor\"], v[\"room\"], v[\"visitorId\"], v[\"contagiousDegree\"]) \n",
    "                 for itinerary in itineraries\n",
    "                 for v in itinerary\n",
    "                 for r in building \n",
    "                 if r['room']==v['room'] and r['floor']==v['floor']\n",
    "                 #if v[\"contagiousDegree\"] >0\n",
    "                ]))\n"
   ]
  },
  {
   "cell_type": "code",
   "execution_count": 46,
   "metadata": {
    "collapsed": false
   },
   "outputs": [
    {
     "name": "stdout",
     "output_type": "stream",
     "text": [
      "infected\n"
     ]
    },
    {
     "data": {
      "text/html": [
       "<div>\n",
       "<table border=\"1\" class=\"dataframe\">\n",
       "  <thead>\n",
       "    <tr style=\"text-align: right;\">\n",
       "      <th></th>\n",
       "      <th>floor</th>\n",
       "      <th>rid</th>\n",
       "      <th>room</th>\n",
       "    </tr>\n",
       "  </thead>\n",
       "  <tbody>\n",
       "    <tr>\n",
       "      <th>0</th>\n",
       "      <td>1</td>\n",
       "      <td>2</td>\n",
       "      <td>3</td>\n",
       "    </tr>\n",
       "    <tr>\n",
       "      <th>1</th>\n",
       "      <td>2</td>\n",
       "      <td>5</td>\n",
       "      <td>2</td>\n",
       "    </tr>\n",
       "    <tr>\n",
       "      <th>2</th>\n",
       "      <td>3</td>\n",
       "      <td>9</td>\n",
       "      <td>2</td>\n",
       "    </tr>\n",
       "    <tr>\n",
       "      <th>3</th>\n",
       "      <td>1</td>\n",
       "      <td>0</td>\n",
       "      <td>1</td>\n",
       "    </tr>\n",
       "    <tr>\n",
       "      <th>4</th>\n",
       "      <td>3</td>\n",
       "      <td>10</td>\n",
       "      <td>3</td>\n",
       "    </tr>\n",
       "    <tr>\n",
       "      <th>5</th>\n",
       "      <td>2</td>\n",
       "      <td>7</td>\n",
       "      <td>4</td>\n",
       "    </tr>\n",
       "  </tbody>\n",
       "</table>\n",
       "</div>"
      ],
      "text/plain": [
       "   floor  rid  room\n",
       "0      1    2     3\n",
       "1      2    5     2\n",
       "2      3    9     2\n",
       "3      1    0     1\n",
       "4      3   10     3\n",
       "5      2    7     4"
      ]
     },
     "execution_count": 46,
     "metadata": {},
     "output_type": "execute_result"
    }
   ],
   "source": [
    "print('infected')\n",
    "pd.DataFrame(infected)"
   ]
  },
  {
   "cell_type": "code",
   "execution_count": 47,
   "metadata": {
    "collapsed": false
   },
   "outputs": [
    {
     "data": {
      "text/plain": [
       "{1, 2, 3, 4, 5}"
      ]
     },
     "execution_count": 47,
     "metadata": {},
     "output_type": "execute_result"
    }
   ],
   "source": [
    "suspiciousVisitors = set([v['visitorId']\n",
    "                      for visits in itineraries \n",
    "                      for v in visits \n",
    "                      for i in infected \n",
    "                      if v['floor']==i['floor']\n",
    "                         and v['room']==i['room']])\n",
    "suspiciousVisitors "
   ]
  },
  {
   "cell_type": "code",
   "execution_count": 48,
   "metadata": {
    "collapsed": false
   },
   "outputs": [
    {
     "data": {
      "text/plain": [
       "Counter({1: 2, 2: 6, 3: 2, 4: 2, 5: 1})"
      ]
     },
     "execution_count": 48,
     "metadata": {},
     "output_type": "execute_result"
    }
   ],
   "source": [
    "from collections import Counter\n",
    " \n",
    "countInfectedVisits = Counter([v['visitorId']\n",
    "                      for visits in itineraries \n",
    "                      for v in visits \n",
    "                      for i in infected \n",
    "                      if v['floor']==i['floor']\n",
    "                         and v['room']==i['room']])\n",
    "countInfectedVisits "
   ]
  },
  {
   "cell_type": "code",
   "execution_count": 49,
   "metadata": {
    "collapsed": false
   },
   "outputs": [
    {
     "data": {
      "text/plain": [
       "dict_items([(1, 6), (2, 12), (3, 3), (4, 6), (5, 1)])"
      ]
     },
     "execution_count": 49,
     "metadata": {},
     "output_type": "execute_result"
    }
   ],
   "source": [
    "countVisits = Counter([v['visitorId']\n",
    "                      for visits in itineraries \n",
    "                      for v in visits])\n",
    "countVisits.items()"
   ]
  },
  {
   "cell_type": "code",
   "execution_count": 50,
   "metadata": {
    "collapsed": false
   },
   "outputs": [
    {
     "data": {
      "text/plain": [
       "[(1, 0.3333333333333333),\n",
       " (2, 0.5),\n",
       " (3, 0.6666666666666666),\n",
       " (4, 0.3333333333333333),\n",
       " (5, 1.0)]"
      ]
     },
     "execution_count": 50,
     "metadata": {},
     "output_type": "execute_result"
    }
   ],
   "source": [
    "ratios = [(vid,vi/v)\n",
    "         for vid, v in countVisits.items()\n",
    "         for visitorId, vi in countInfectedVisits.items()\n",
    "         if vid==visitorId]\n",
    "ratios"
   ]
  },
  {
   "cell_type": "code",
   "execution_count": 51,
   "metadata": {
    "collapsed": false
   },
   "outputs": [
    {
     "data": {
      "text/html": [
       "<div>\n",
       "<table border=\"1\" class=\"dataframe\">\n",
       "  <thead>\n",
       "    <tr style=\"text-align: right;\">\n",
       "      <th></th>\n",
       "      <th>0</th>\n",
       "      <th>1</th>\n",
       "    </tr>\n",
       "  </thead>\n",
       "  <tbody>\n",
       "    <tr>\n",
       "      <th>4</th>\n",
       "      <td>5</td>\n",
       "      <td>1.0</td>\n",
       "    </tr>\n",
       "  </tbody>\n",
       "</table>\n",
       "</div>"
      ],
      "text/plain": [
       "   0    1\n",
       "4  5  1.0"
      ]
     },
     "execution_count": 51,
     "metadata": {},
     "output_type": "execute_result"
    }
   ],
   "source": [
    "df = pd.DataFrame(ratios)\n",
    "mainSuspect = df[df.iloc[:,1]==max(df.iloc[:,1])]\n",
    "mainSuspect"
   ]
  },
  {
   "cell_type": "code",
   "execution_count": 52,
   "metadata": {
    "collapsed": false
   },
   "outputs": [
    {
     "data": {
      "text/plain": [
       "Counter({0: 1, 2: 2, 5: 1, 7: 3, 9: 2, 10: 4})"
      ]
     },
     "execution_count": 52,
     "metadata": {},
     "output_type": "execute_result"
    }
   ],
   "source": [
    "countVisitsToRoom = Counter([v['rid']\n",
    "                      for visits in itineraries \n",
    "                      for v in visits \n",
    "                      for i in infected \n",
    "                      if v['floor']==i['floor']\n",
    "                         and v['room']==i['room']])\n",
    "countVisitsToRoom"
   ]
  },
  {
   "cell_type": "code",
   "execution_count": 53,
   "metadata": {
    "collapsed": false
   },
   "outputs": [
    {
     "data": {
      "text/html": [
       "<div>\n",
       "<table border=\"1\" class=\"dataframe\">\n",
       "  <thead>\n",
       "    <tr style=\"text-align: right;\">\n",
       "      <th></th>\n",
       "      <th>1</th>\n",
       "      <th>2</th>\n",
       "      <th>3</th>\n",
       "      <th>4</th>\n",
       "      <th>5</th>\n",
       "      <th>6</th>\n",
       "    </tr>\n",
       "  </thead>\n",
       "  <tbody>\n",
       "    <tr>\n",
       "      <th>1</th>\n",
       "      <td>0.0</td>\n",
       "      <td>0.0</td>\n",
       "      <td>0.0</td>\n",
       "      <td>0.0</td>\n",
       "      <td>0.25</td>\n",
       "      <td>0.333333</td>\n",
       "    </tr>\n",
       "    <tr>\n",
       "      <th>2</th>\n",
       "      <td>0.5</td>\n",
       "      <td>1.0</td>\n",
       "      <td>0.5</td>\n",
       "      <td>1.0</td>\n",
       "      <td>0.25</td>\n",
       "      <td>0.333333</td>\n",
       "    </tr>\n",
       "    <tr>\n",
       "      <th>3</th>\n",
       "      <td>0.0</td>\n",
       "      <td>0.0</td>\n",
       "      <td>0.5</td>\n",
       "      <td>0.0</td>\n",
       "      <td>0.25</td>\n",
       "      <td>0.000000</td>\n",
       "    </tr>\n",
       "    <tr>\n",
       "      <th>4</th>\n",
       "      <td>0.5</td>\n",
       "      <td>0.0</td>\n",
       "      <td>0.0</td>\n",
       "      <td>0.0</td>\n",
       "      <td>0.00</td>\n",
       "      <td>0.333333</td>\n",
       "    </tr>\n",
       "    <tr>\n",
       "      <th>5</th>\n",
       "      <td>0.0</td>\n",
       "      <td>0.0</td>\n",
       "      <td>0.0</td>\n",
       "      <td>0.0</td>\n",
       "      <td>0.25</td>\n",
       "      <td>0.000000</td>\n",
       "    </tr>\n",
       "  </tbody>\n",
       "</table>\n",
       "</div>"
      ],
      "text/plain": [
       "     1    2    3    4     5         6\n",
       "1  0.0  0.0  0.0  0.0  0.25  0.333333\n",
       "2  0.5  1.0  0.5  1.0  0.25  0.333333\n",
       "3  0.0  0.0  0.5  0.0  0.25  0.000000\n",
       "4  0.5  0.0  0.0  0.0  0.00  0.333333\n",
       "5  0.0  0.0  0.0  0.0  0.25  0.000000"
      ]
     },
     "execution_count": 53,
     "metadata": {},
     "output_type": "execute_result"
    }
   ],
   "source": [
    "def visited(visitor_id, room):\n",
    "    totalVisits = [ tv \n",
    "                   for itinerary in itineraries\n",
    "                   for v in itinerary\n",
    "                   for rid, tv in countVisitsToRoom.items()\n",
    "                   if rid == v['rid']\n",
    "                    and rid == room['rid']\n",
    "                    and v['visitorId'] == visitor_id]\n",
    "    return 1/totalVisits[0] if len(totalVisits) > 0 else 0\n",
    "\n",
    "transitionMatrix = pd.DataFrame(\n",
    "                    [[visited(v, r) \n",
    "                        for r in infected]\n",
    "                     for v in suspiciousVisitors ],\n",
    "                    index=suspiciousVisitors,\n",
    "                    columns=range(1,len(infected)+1))\n",
    "transitionMatrix"
   ]
  },
  {
   "cell_type": "code",
   "execution_count": 54,
   "metadata": {
    "collapsed": false
   },
   "outputs": [
    {
     "name": "stdout",
     "output_type": "stream",
     "text": [
      "-1\n",
      "0\n"
     ]
    },
    {
     "data": {
      "text/html": [
       "<div>\n",
       "<table border=\"1\" class=\"dataframe\">\n",
       "  <thead>\n",
       "    <tr style=\"text-align: right;\">\n",
       "      <th></th>\n",
       "      <th>1</th>\n",
       "      <th>2</th>\n",
       "      <th>3</th>\n",
       "      <th>4</th>\n",
       "      <th>5</th>\n",
       "      <th>6</th>\n",
       "    </tr>\n",
       "  </thead>\n",
       "  <tbody>\n",
       "    <tr>\n",
       "      <th>0</th>\n",
       "      <td>0.0</td>\n",
       "      <td>0.0</td>\n",
       "      <td>0.0</td>\n",
       "      <td>0.0</td>\n",
       "      <td>0.25</td>\n",
       "      <td>0.333333</td>\n",
       "    </tr>\n",
       "    <tr>\n",
       "      <th>1</th>\n",
       "      <td>0.5</td>\n",
       "      <td>1.0</td>\n",
       "      <td>0.5</td>\n",
       "      <td>1.0</td>\n",
       "      <td>0.25</td>\n",
       "      <td>0.333333</td>\n",
       "    </tr>\n",
       "    <tr>\n",
       "      <th>2</th>\n",
       "      <td>0.0</td>\n",
       "      <td>0.0</td>\n",
       "      <td>0.5</td>\n",
       "      <td>0.0</td>\n",
       "      <td>0.25</td>\n",
       "      <td>0.000000</td>\n",
       "    </tr>\n",
       "    <tr>\n",
       "      <th>3</th>\n",
       "      <td>0.5</td>\n",
       "      <td>0.0</td>\n",
       "      <td>0.0</td>\n",
       "      <td>0.0</td>\n",
       "      <td>0.00</td>\n",
       "      <td>0.333333</td>\n",
       "    </tr>\n",
       "    <tr>\n",
       "      <th>4</th>\n",
       "      <td>0.0</td>\n",
       "      <td>0.0</td>\n",
       "      <td>0.0</td>\n",
       "      <td>0.0</td>\n",
       "      <td>0.25</td>\n",
       "      <td>0.000000</td>\n",
       "    </tr>\n",
       "    <tr>\n",
       "      <th>5</th>\n",
       "      <td>0.0</td>\n",
       "      <td>0.0</td>\n",
       "      <td>0.0</td>\n",
       "      <td>0.0</td>\n",
       "      <td>0.00</td>\n",
       "      <td>0.000000</td>\n",
       "    </tr>\n",
       "  </tbody>\n",
       "</table>\n",
       "</div>"
      ],
      "text/plain": [
       "     1    2    3    4     5         6\n",
       "0  0.0  0.0  0.0  0.0  0.25  0.333333\n",
       "1  0.5  1.0  0.5  1.0  0.25  0.333333\n",
       "2  0.0  0.0  0.5  0.0  0.25  0.000000\n",
       "3  0.5  0.0  0.0  0.0  0.00  0.333333\n",
       "4  0.0  0.0  0.0  0.0  0.25  0.000000\n",
       "5  0.0  0.0  0.0  0.0  0.00  0.000000"
      ]
     },
     "execution_count": 54,
     "metadata": {},
     "output_type": "execute_result"
    }
   ],
   "source": [
    "largestSide = len(transitionMatrix.index) - len(transitionMatrix.columns)\n",
    "print(largestSide)\n",
    "if largestSide > 0:\n",
    "        for i in range(largestSide):\n",
    "            columnName = 'gr'+ str(i)\n",
    "            transitionMatrix[columnName] = 1/len(transitionMatrix.index)\n",
    "elif largestSide < 0:\n",
    "        for i in range(largestSide*-1):\n",
    "            print(i)\n",
    "            row = pd.Series([0 for i in range(len(transitionMatrix.columns))],transitionMatrix.columns)\n",
    "            transitionMatrix = transitionMatrix.append(row,ignore_index=True)\n",
    "\n",
    "transitionMatrix"
   ]
  },
  {
   "cell_type": "code",
   "execution_count": 55,
   "metadata": {
    "collapsed": false
   },
   "outputs": [
    {
     "data": {
      "text/plain": [
       "array([[ 0.16666667,  0.16666667,  0.16666667,  0.16666667,  0.16666667,\n",
       "         0.16666667],\n",
       "       [ 0.16666667,  0.16666667,  0.16666667,  0.16666667,  0.16666667,\n",
       "         0.16666667],\n",
       "       [ 0.16666667,  0.16666667,  0.16666667,  0.16666667,  0.16666667,\n",
       "         0.16666667],\n",
       "       [ 0.16666667,  0.16666667,  0.16666667,  0.16666667,  0.16666667,\n",
       "         0.16666667],\n",
       "       [ 0.16666667,  0.16666667,  0.16666667,  0.16666667,  0.16666667,\n",
       "         0.16666667],\n",
       "       [ 0.16666667,  0.16666667,  0.16666667,  0.16666667,  0.16666667,\n",
       "         0.16666667]])"
      ]
     },
     "execution_count": 55,
     "metadata": {},
     "output_type": "execute_result"
    }
   ],
   "source": [
    "size = len(transitionMatrix.index)\n",
    "teleportMatrixProbability = np.full((size,size),1/size)\n",
    "teleportMatrixProbability"
   ]
  },
  {
   "cell_type": "code",
   "execution_count": 56,
   "metadata": {
    "collapsed": false
   },
   "outputs": [
    {
     "data": {
      "text/plain": [
       "array([[ 0.01666667,  0.01666667,  0.01666667,  0.01666667,  0.24166667,\n",
       "         0.31666667],\n",
       "       [ 0.46666667,  0.91666667,  0.46666667,  0.91666667,  0.24166667,\n",
       "         0.31666667],\n",
       "       [ 0.01666667,  0.01666667,  0.46666667,  0.01666667,  0.24166667,\n",
       "         0.01666667],\n",
       "       [ 0.46666667,  0.01666667,  0.01666667,  0.01666667,  0.01666667,\n",
       "         0.31666667],\n",
       "       [ 0.01666667,  0.01666667,  0.01666667,  0.01666667,  0.24166667,\n",
       "         0.01666667],\n",
       "       [ 0.01666667,  0.01666667,  0.01666667,  0.01666667,  0.01666667,\n",
       "         0.01666667]])"
      ]
     },
     "execution_count": 56,
     "metadata": {},
     "output_type": "execute_result"
    }
   ],
   "source": [
    "\n",
    "teleportTransitionMatrix = (0.9*transitionMatrix.as_matrix()) + (0.1*teleportMatrixProbability)\n",
    "teleportTransitionMatrix"
   ]
  },
  {
   "cell_type": "code",
   "execution_count": 57,
   "metadata": {
    "collapsed": false
   },
   "outputs": [
    {
     "data": {
      "text/plain": [
       "array([[ 0.10416667],\n",
       "       [ 0.55416667],\n",
       "       [ 0.12916667],\n",
       "       [ 0.14166667],\n",
       "       [ 0.05416667],\n",
       "       [ 0.01666667]])"
      ]
     },
     "execution_count": 57,
     "metadata": {},
     "output_type": "execute_result"
    }
   ],
   "source": [
    "currentState = pd.DataFrame(1/size,\n",
    "                            index=[i for i in range(size)], \n",
    "                            columns=[1]).as_matrix()\n",
    "teleportTransitionMatrix.dot(currentState)"
   ]
  },
  {
   "cell_type": "code",
   "execution_count": 58,
   "metadata": {
    "collapsed": false
   },
   "outputs": [
    {
     "name": "stdout",
     "output_type": "stream",
     "text": [
      "[[ 0.16666667]\n",
      " [ 0.16666667]\n",
      " [ 0.16666667]\n",
      " [ 0.16666667]\n",
      " [ 0.16666667]\n",
      " [ 0.16666667]]\n"
     ]
    },
    {
     "data": {
      "text/plain": [
       "array([[ 0.02650538],\n",
       "       [ 0.86262781],\n",
       "       [ 0.03910068],\n",
       "       [ 0.03359409],\n",
       "       [ 0.02150538],\n",
       "       [ 0.01666667]])"
      ]
     },
     "execution_count": 58,
     "metadata": {},
     "output_type": "execute_result"
    }
   ],
   "source": [
    "\n",
    "print(currentState)\n",
    "for i in range(0,10000):\n",
    "    nextState = teleportTransitionMatrix.dot(currentState)\n",
    "    currentState = nextState\n",
    "nextState"
   ]
  }
 ],
 "metadata": {
  "anaconda-cloud": {},
  "kernelspec": {
   "display_name": "Python [conda root]",
   "language": "python",
   "name": "conda-root-py"
  },
  "language_info": {
   "codemirror_mode": {
    "name": "ipython",
    "version": 3
   },
   "file_extension": ".py",
   "mimetype": "text/x-python",
   "name": "python",
   "nbconvert_exporter": "python",
   "pygments_lexer": "ipython3",
   "version": "3.5.2"
  }
 },
 "nbformat": 4,
 "nbformat_minor": 1
}
