{
 "cells": [
  {
   "cell_type": "markdown",
   "metadata": {},
   "source": [
    "# Problem 1 (5 points)\n",
    "\n",
    "Write a simple program to compute the tax on an order amount. The program should prompt for the order amount and the state. If the state is “WI,” then the order must be charged 5.5% tax. The program should display the subtotal, tax, and total for Wisconsin residents but display just the total for non-residents.\n",
    "\n",
    "## Example Output\n",
    "<pre>\n",
    "What is the order amount? 10\n",
    "What is the state? WI\n",
    "The subtotal is $10.00.\n",
    "The tax is $0.55.\n",
    "The total is $10.55.\n",
    "</pre>\n",
    "\n",
    "Or\n",
    "\n",
    "<pre>\n",
    "What is the order amount? 10\n",
    "What is the state? MN\n",
    "The total is $10.00\n",
    "</pre>\n",
    "\n",
    "## Constraints\n",
    "\n",
    "- Implement this program using only a simple if statement—don’t use an else clause.\n",
    "- Ensure that all money is rounded up to the nearest cent.\n",
    "- Use a single output statement at the end of the program to display the program results."
   ]
  },
  {
   "cell_type": "code",
   "execution_count": 2,
   "metadata": {
    "collapsed": false
   },
   "outputs": [
    {
     "name": "stdout",
     "output_type": "stream",
     "text": [
      "What is the order amount? asdas\n",
      "Only numbers are alloed\n"
     ]
    }
   ],
   "source": [
    "def problem1():\n",
    "    try:\n",
    "        #input\n",
    "        subtotal = round(float(input(\"What is the order amount? \")),2)\n",
    "        state = input(\"What is the state? \")\n",
    "\n",
    "        #Calulcations\n",
    "        total = subtotal\n",
    "        subtotalPhrase = \"\"\n",
    "        taxPhrase = \"\"    \n",
    "\n",
    "        if state==\"WI\":\n",
    "            tax = 0.055 * subtotal\n",
    "            total = subtotal + tax\n",
    "            subtotalPhrase = \"The subtotal is ${}\\n\".format(subtotal)\n",
    "            taxPhrase = \"The tax is ${}\\n\".format(tax)\n",
    "\n",
    "        #output\n",
    "        print(\"\".join((subtotalPhrase,taxPhrase, \"The total is ${}\".format(total))))\n",
    "    except ValueError:\n",
    "        print(\"Only numbers are allowed\")\n",
    "    \n",
    "problem1()"
   ]
  },
  {
   "cell_type": "markdown",
   "metadata": {},
   "source": [
    "# Problem 2 (4 points)\n",
    "\n",
    "Create a simple program that validates user login credentials. The program must prompt the user for a username and password. The program should compare the password given by the user to a known password. If the password matches, the program should display “Welcome!” If it doesn’t match, the program should display “I don’t know you.”\n",
    "\n",
    "## Example Output\n",
    "\n",
    "<pre>\n",
    "What is the password? 12345\n",
    "I don't know you.\n",
    "</pre>\n",
    "\n",
    "Or\n",
    "\n",
    "<pre>\n",
    "What is the password? abc$123\n",
    "Welcome!\n",
    "</pre>\n",
    "\n",
    "## Constraints\n",
    "\n",
    "- Use an if/else statement for this problem.\n",
    "- Make sure the program is case sensitive."
   ]
  },
  {
   "cell_type": "code",
   "execution_count": 8,
   "metadata": {
    "collapsed": false
   },
   "outputs": [
    {
     "name": "stdout",
     "output_type": "stream",
     "text": [
      "What is the password? abc$123\n",
      "Welcome!\n"
     ]
    }
   ],
   "source": [
    "def problem2():\n",
    "    #input\n",
    "    pwd = input(\"What is the password? \")\n",
    "\n",
    "    #Calulcations\n",
    "    if pwd == \"abc$123\":\n",
    "        output = \"Welcome!\"\n",
    "    else:\n",
    "        output = \"I don't know you.\"\n",
    "\n",
    "    #output\n",
    "    print(output)\n",
    "\n",
    "problem2()"
   ]
  },
  {
   "cell_type": "markdown",
   "metadata": {},
   "source": [
    "# Problem 3 (3 points)\n",
    "\n",
    "Write a program that asks the user for their age and compare it to the legal driving age of sixteen. If the user is sixteen or older, then the program should display “You are old enough to legally drive.” If the user is under sixteen, the program should display “You are not old enough to legally drive.”\n",
    "\n",
    "## Example Output\n",
    "\n",
    "<pre>\n",
    "What is your age? 15\n",
    "You are not old enough to legally drive.\n",
    "</pre>\n",
    "\n",
    "Or\n",
    "\n",
    "<pre>\n",
    "What is your age? 35\n",
    "You are old enough to legally drive.\n",
    "</pre>\n",
    "\n",
    "## Constraints\n",
    "\n",
    "- Use a single output statement."
   ]
  },
  {
   "cell_type": "code",
   "execution_count": 8,
   "metadata": {
    "collapsed": false
   },
   "outputs": [
    {
     "name": "stdout",
     "output_type": "stream",
     "text": [
      "What is your age? 12\n",
      "You are not old enough to legally drive.\n"
     ]
    }
   ],
   "source": [
    "def problem3():\n",
    "    try:\n",
    "        # Inputs\n",
    "        age = int(input(\"What is your age? \"))\n",
    "        \n",
    "        # Calculations\n",
    "        negation = \"not \" if age <16 else \"\"\n",
    "        \n",
    "        #output\n",
    "        print(\"You are {}old enough to legally drive.\".format(negation))\n",
    "        \n",
    "    except ErrorValue:\n",
    "        print(\"Only numbers are allowed\")\n",
    "\n",
    "problem3()        "
   ]
  },
  {
   "cell_type": "markdown",
   "metadata": {},
   "source": [
    "# Problem 4 (3 points)\n",
    "\n",
    "Create a program that prompts for your weight, gender, number of drinks, the amount of alcohol by volume of the drinks consumed, and the amount of time since your last drink. Calculate your blood alcohol content (BAC) using this formula $BAC = (A \\times 5.14 / W \\times r) - 0.015 \\times H$\n",
    "\n",
    "where\n",
    "\n",
    "- A is total alcohol consumed, in ounces (oz).\n",
    "- W is body weight in pounds.\n",
    "- r is the alcohol distribution ratio:\n",
    "  - 0.73 for men\n",
    "  - 0.66 for women\n",
    "- H is number of hours since the last drink.\n",
    "\n",
    "Display whether or not it’s legal to drive by comparing the blood alcohol content to 0.08.\n",
    "\n",
    "## Example Output\n",
    "<pre>\n",
    "Your BAC is 0.08\n",
    "It is not legal for you to drive.\n",
    "</pre>\n",
    "\n",
    "## Constraint\n",
    "\n",
    "- Prevent the user from entering non-numeric values."
   ]
  },
  {
   "cell_type": "code",
   "execution_count": 10,
   "metadata": {
    "collapsed": false
   },
   "outputs": [
    {
     "name": "stdout",
     "output_type": "stream",
     "text": [
      "Please enter the total alcohol you have consumed, in ounces (oz): 10\n",
      "Please enter yout body weight in pounds: 10\n",
      "Please enter 1 if you are a woman or '0' if you are a man: 1\n",
      "Please enter the number of hours since the last drink: 1\n",
      "Your BAC is 7.77\n",
      "It is not legal for you to drive.\n"
     ]
    }
   ],
   "source": [
    "def problem4():\n",
    "    try:\n",
    "        # Constants\n",
    "        WOMEN_ALCOHOL_DISTRIBUTION_RATIO = 0.66\n",
    "        MAN_ALCOHOL_DISTRIBUTION_RATIO = 0.73\n",
    "        \n",
    "        # Inputs\n",
    "        a = float(input(\"Please enter the total alcohol you have consumed, in ounces (oz): \"))\n",
    "        w = float(input(\"Please enter yout body weight in pounds: \"))\n",
    "        \n",
    "        while True:\n",
    "            g = int(input(\"Please enter 1 if you are a woman or '0' if you are a man: \"))\n",
    "            if g == 1 or g == 0:\n",
    "                break;\n",
    "            print(\"Only 0 and 1 are allowed\")\n",
    "            \n",
    "        h = int(input(\"Please enter the number of hours since the last drink: \"))\n",
    "        \n",
    "        # Calculations\n",
    "        # Calculate alcohol distribution ratio\n",
    "        r = (WOMEN_ALCOHOL_DISTRIBUTION_RATIO*g) + \\\n",
    "            (MAN_ALCOHOL_DISTRIBUTION_RATIO*(1-g))\n",
    "        \n",
    "        # Calcuation BAC    \n",
    "        bac = round(((a*5.14)/(w*r))- (0.015*h),2)\n",
    "        \n",
    "        # Calculating if legal to drive\n",
    "        negation=\"not \" if bac >= 0.8 else \"\"            \n",
    "            \n",
    "        #output\n",
    "        print(\"\\n\".join((\"Your BAC is {}\".format(bac), \\\n",
    "              \"It is {}legal for you to drive.\".format(negation))))\n",
    "        \n",
    "    except ErrorValue:\n",
    "        print(\"Only numbers are allowed\")\n",
    "\n",
    "problem4() "
   ]
  },
  {
   "cell_type": "markdown",
   "metadata": {},
   "source": [
    "# Problem 5 (4 points)\n",
    "\n",
    "Create a program that converts temperatures from Fahrenheit to Celsius or from Celsius to Fahrenheit. Prompt for the starting temperature. The program should prompt for the type of conversion and then perform the conversion.\n",
    "\n",
    "The formulas are\n",
    "\n",
    "$C = (F - 32) \\times 5/9$\n",
    "\n",
    "and\n",
    "\n",
    "$F = (C \\times 9/5) + 32$\n",
    "\n",
    "## Example Output\n",
    "\n",
    "<pre>\n",
    "Press C to convert from Fahrenheit to Celsius.\n",
    "Press F to convert from Celsius to Fahrenheit.\n",
    "Your choice: C\n",
    "Please enter the temperature in Fahrenheit: 32\n",
    "The temperature in Celsius is 0.\n",
    "</pre>\n",
    "\n",
    "## Constraints\n",
    "\n",
    "- Ensure that you allow upper or lowercase values for C and F.\n",
    "- Use as few output statements as possible and avoid repeating output strings."
   ]
  },
  {
   "cell_type": "code",
   "execution_count": 2,
   "metadata": {
    "collapsed": false
   },
   "outputs": [
    {
     "name": "stdout",
     "output_type": "stream",
     "text": [
      "Press C to convert from Fahrenheit to Celsius.\n",
      "Press F to convert from Celsius to Fahrenheit.\n",
      "Your choice: f\n",
      "Please enter the temperature in Celsius: 40\n",
      "The temperature in Fahrenheit is 104.\n"
     ]
    }
   ],
   "source": [
    "def problem5():\n",
    "    try:\n",
    "        # Inputs   \n",
    "        print(\"Press C to convert from Fahrenheit to Celsius.\")\n",
    "        print(\"Press F to convert from Celsius to Fahrenheit.\")\n",
    "        while True:\n",
    "            choose = input(\"Your choice: \")\n",
    "            if choose == \"c\" or  choose == \"C\" or \\\n",
    "               choose == \"f\" or  choose == \"F\":\n",
    "                break;                \n",
    "            print(\"Only 'C' or 'F' are allowed\")\n",
    "            \n",
    "        choice = \"Celsius\" if choose == \"C\" or  choose == \"c\" else \"Fahrenheit\"  \n",
    "        fromSystem = \"Fahrenheit\" if choice == \"Celsius\" else \"Celsius\"\n",
    "        originalTemp = int(input(\"Please enter the temperature in {}: \".format(fromSystem)))\n",
    "        \n",
    "        # Calculations\n",
    "        converted = (originalTemp-32)*5/9 if choice==\"Celsius\" else (originalTemp*9/5)+32\n",
    "                        \n",
    "        #output\n",
    "        print(\"The temperature in {} is {}.\".format(choice, int(round(converted))))\n",
    "        \n",
    "    except ErrorValue:\n",
    "        print(\"Only numbers are allowed\")\n",
    "\n",
    "problem5() "
   ]
  },
  {
   "cell_type": "markdown",
   "metadata": {},
   "source": [
    "# Problem 6 (3 points)\n",
    "\n",
    "Create a program to calculate the body mass index (BMI) for a person using the person’s height in inches and weight in pounds. The program should prompt the user for weight and height.\n",
    "\n",
    "Calculate the BMI by using the following formula: $bmi = (weight / (height \\times height)) \\times 703$\n",
    "\n",
    "If the BMI is between 18.5 and 25, display that the person is at a normal weight. If they are out of that range, tell them if they are underweight or overweight and tell them to consult their doctor.\n",
    "\n",
    "## Example Output\n",
    "\n",
    "<pre>\n",
    "Your BMI is 19.5.\n",
    "You are within the ideal weight range.\n",
    "</pre>\n",
    "\n",
    "or\n",
    "\n",
    "<pre>\n",
    "Your BMI is 32.5.\n",
    "You are overweight. You should see your doctor.\n",
    "</pre>\n",
    "\n",
    "## Constraint\n",
    "\n",
    "- Ensure your program takes only numeric data. Don’t let the user continue unless the data is valid."
   ]
  },
  {
   "cell_type": "code",
   "execution_count": 5,
   "metadata": {
    "collapsed": false
   },
   "outputs": [
    {
     "name": "stdout",
     "output_type": "stream",
     "text": [
      "Please enter weight, in pounds: 100\n",
      "Please enter height, in inches: 62\n",
      "Your BMI is 18.\n",
      "You are underweight, You should see your doctor\n"
     ]
    }
   ],
   "source": [
    "def problem6():\n",
    "    while True:\n",
    "        try:\n",
    "            # Inputs   \n",
    "            weight = float(input(\"Please enter weight, in pounds: \"))\n",
    "            height = float(input(\"Please enter height, in inches: \"))\n",
    "            break\n",
    "        except ValueError:\n",
    "            print(\"Only numbers are allowed\")\n",
    "        \n",
    "    # Calculations\n",
    "    bmi=(weight/(height*height))*703\n",
    "    overweight = True if bmi > 25 else False\n",
    "    underweight = True if bmi < 18.5 else False\n",
    "    \n",
    "    #output\n",
    "    print(\"Your BMI is {}.\".format(round(bmi)))\n",
    "    if underweight:\n",
    "        print (\"You are underweight, You should see your doctor\")\n",
    "    elif overweight: \n",
    "        print (\"You are overweight, You should see your doctor\")\n",
    "problem6() "
   ]
  },
  {
   "cell_type": "markdown",
   "metadata": {},
   "source": [
    "# Problem 7 (4 points)\n",
    "\n",
    "Create a tax calculator that handles multiple states and multiple counties within each state. The program prompts the user for the order amount and the state where the order will be shipped.\n",
    "\n",
    "Wisconsin residents are charged a base tax of 5%. Wisconsin residents are also charged additional tax based on their county of residence.\n",
    "- For Eau Claire county residents, add an additional 0.005 tax.\n",
    "- For Dunn county residents, add an additional 0.004 tax.\n",
    "\n",
    "Illinois residents must be charged 8% sales tax with no additional county-level charge. All other states are not charged tax. The program then displays the tax and the total for Wisconsin and Illinois residents but just the total for everyone else.\n",
    "\n",
    "## Example Output\n",
    "\n",
    "<pre>\n",
    "What is the order amount? 10\n",
    "What state do you live in? Wisconsin\n",
    "What county do you live in? Eau Claire\n",
    "The tax is $0.55.\n",
    "The total is $10.55.\n",
    "</pre>\n",
    "\n",
    "## Constraints\n",
    "\n",
    "- Ensure that all money is rounded up to the nearest cent.\n",
    "- Use a single output statement at the end of the program to display the program results."
   ]
  },
  {
   "cell_type": "code",
   "execution_count": 14,
   "metadata": {
    "collapsed": false
   },
   "outputs": [
    {
     "name": "stdout",
     "output_type": "stream",
     "text": [
      "What is the order amount? 10\n",
      "What state do you live in? Florida\n",
      "The total is $10.0\n"
     ]
    }
   ],
   "source": [
    "def problem7():\n",
    "    try:\n",
    "        #input\n",
    "        subtotal = round(float(input(\"What is the order amount? \")),2)\n",
    "        state = input(\"What state do you live in? \")\n",
    "        if state==\"Wisconsin\":\n",
    "            county = input(\"What county do you live in? \")\n",
    "            \n",
    "        #Calulcations\n",
    "        total = subtotal\n",
    "        taxPhrase = \"\"    \n",
    "\n",
    "        if state==\"Wisconsin\":\n",
    "            tax = 0.055 * subtotal\n",
    "            if county == \"Eau Claire\":\n",
    "                tax = tax + (0.005* subtotal)\n",
    "            elif county == \"Dunn\":\n",
    "                tax = tax + (0.004* subtotal)     \n",
    "            total = subtotal + tax\n",
    "            taxPhrase = \"The tax is ${}\\n\".format(round(tax,2))\n",
    "        elif state==\"Illinois\":\n",
    "            tax = 0.08 * subtotal\n",
    "            total = subtotal + tax\n",
    "            taxPhrase = \"The tax is ${}\\n\".format(round(tax,2))\n",
    "            \n",
    "        #output\n",
    "        print(\"\".join((taxPhrase, \"The total is ${}\".format(total))))\n",
    "    except ValueError:\n",
    "        print(\"Only numbers are allowed\")\n",
    "    \n",
    "problem7()"
   ]
  },
  {
   "cell_type": "markdown",
   "metadata": {},
   "source": [
    "# Problem 8 (3 points)\n",
    "\n",
    "Write a program that converts a number from 1 to 12 to the corresponding month. Prompt for a number and display the corresponding calendar month, with 1 being January and 12 being December. For any value outside that range, display an appropriate error message.\n",
    "\n",
    "## Example Output\n",
    "\n",
    "<pre>\n",
    "Please enter the number of the month: 3\n",
    "The name of the month is March.\n",
    "</pre>\n",
    "\n",
    "## Constraints\n",
    "\n",
    "- Use a single output statement for this program."
   ]
  },
  {
   "cell_type": "code",
   "execution_count": 2,
   "metadata": {
    "collapsed": false
   },
   "outputs": [
    {
     "name": "stdout",
     "output_type": "stream",
     "text": [
      "Please enter the number of the month: 3\n",
      "The name of the month is March.\n"
     ]
    }
   ],
   "source": [
    "def problem8():\n",
    "    months = {1:\"January\",2:\"February\",3:\"March\",4:\"April\",5:\"May\",6:\"June\",\\\n",
    "              7:\"July\",8:\"August\",9:\"September\",10:\"October\",11:\"November\",12:\"December\"}\n",
    "    try:\n",
    "        # input\n",
    "        while True:\n",
    "            monthNumber = int(input(\"Please enter the number of the month: \"))\n",
    "            if monthNumber > 0 and monthNumber < 13:\n",
    "                break\n",
    "            print(\"Only numbers between 1 and 12 (inclusive) are allowed\")\n",
    "            \n",
    "        # calculation\n",
    "        month = months[monthNumber]\n",
    "        \n",
    "        #output\n",
    "        print(\"The name of the month is {}.\".format(month))\n",
    "        \n",
    "    except ValueError:\n",
    "        print(\"Only numbers are allowed\")\n",
    "        \n",
    "problem8()        "
   ]
  },
  {
   "cell_type": "markdown",
   "metadata": {},
   "source": [
    "# Problem 9 (4 points)\n",
    "\n",
    "Create a program that compares two strings and determines if the two strings are anagrams. The program should prompt for both input strings and display the output as shown in the example that follows.\n",
    "\n",
    "## Example Output\n",
    "\n",
    "<pre>\n",
    "Enter two strings and I'll tell you if they are anagrams:\n",
    "Enter the first string: note\n",
    "Enter the second string: tone\n",
    "\"note\" and \"tone\" are anagrams.\n",
    "</pre>\n",
    "\n",
    "## Constraints\n",
    "\n",
    "- Implement the program using a function called `isAnagram`, which takes in two words as its arguments and returns `true` or `false`. Invoke this function from your main program.\n",
    "- Check that both words are the same length."
   ]
  },
  {
   "cell_type": "code",
   "execution_count": 24,
   "metadata": {
    "collapsed": false
   },
   "outputs": [
    {
     "name": "stdout",
     "output_type": "stream",
     "text": [
      "Enter two strings and I'll tell you if they are anagrams: \n",
      "Enter the first string: note\n",
      "Enter the second string: tones\n",
      "note and tones are not anagrams\n"
     ]
    }
   ],
   "source": [
    "def isAnagram(str1, str2):\n",
    "    # if lengths are different the strings cannot be anagrams\n",
    "    if len(str1) != len(str2):\n",
    "        return False\n",
    "    \n",
    "    # check if the intersection of the common letter has equal lenght as the\n",
    "    # union of all the letter in both strings\n",
    "    intersectionIsUnion = len(\"\".join([c for c in str1 if c in set(str2)])) == \\\n",
    "        len(\"\".join([c for c in str2 if c in set(str1)])) == \\\n",
    "        len(str1)\n",
    "        \n",
    "    return intersectionIsUnion\n",
    "\n",
    "def problem9():\n",
    "    #input\n",
    "    print(\"Enter two strings and I'll tell you if they are anagrams: \")\n",
    "    str1 = input(\"Enter the first string: \")\n",
    "    str2 = input(\"Enter the second string: \")\n",
    "        \n",
    "    #calculation\n",
    "    negation = \"\" if isAnagram(str1, str2) else \"not \"\n",
    "        \n",
    "    #output\n",
    "    print (\"{} and {} are {}anagrams\".format(str1, str2, negation))\n",
    "\n",
    "problem9() "
   ]
  },
  {
   "cell_type": "markdown",
   "metadata": {},
   "source": [
    "# Problem 10 (4 points)\n",
    "\n",
    "Create a program that determines the complexity of a given password based on these rules:\n",
    "- A very weak password contains only numbers and is fewer than eight characters.\n",
    "- A weak password contains only letters and is fewer than eight characters.\n",
    "- A strong password contains letters and at least one number and is at least eight characters.\n",
    "- A very strong password contains letters, numbers, and special characters and is at least eight characters.\n",
    "\n",
    "## Example Output\n",
    "\n",
    "<pre>\n",
    "The password '12345' is a very weak password.\n",
    "The password 'abcdef' is a weak password.\n",
    "The password 'abc123xyz' is a strong password.\n",
    "The password '1337h@xor!' is a very strong password.\n",
    "</pre>\n",
    "\n",
    "## Constraints\n",
    "\n",
    "- Create a `passwordValidator` function that takes in the password as its argument and returns a value you can evaluate to determine the password strength. Do not have the function return a string — you may need to support multiple languages in the future.\n",
    "- Use a single output statement."
   ]
  },
  {
   "cell_type": "code",
   "execution_count": 43,
   "metadata": {
    "collapsed": false
   },
   "outputs": [
    {
     "name": "stdout",
     "output_type": "stream",
     "text": [
      "Please enter a password: luisluis1!\n",
      "The password luisluis1! is a strong password\n"
     ]
    }
   ],
   "source": [
    "import re\n",
    "\n",
    "def passwordValidator(pwd):\n",
    "    if sum(c.isdigit() for c in pwd) == len(pwd) and len(pwd) < 8:\n",
    "        return 1\n",
    "    if sum(c.isalpha() for c in pwd) <= len(pwd) and len(pwd) < 8:\n",
    "        return 2\n",
    "    if sum(c.isdigit() for c in pwd) >=  1 and \\\n",
    "        sum(c.isalpha() for c in pwd)>= 1 and \\\n",
    "        len(pwd) >= 8:\n",
    "        return 3\n",
    "    if sum(c.isdigit() for c in pwd) >=  1 and \\\n",
    "        sum(c.isalpha() for c in pwd)>= 1 and \\\n",
    "        sum(bool(re.match(r\"\"\"[!.><:;'@#~{}\\[\\]-_+=£$%^&()?]\"\"\", c)) for c in pwd)>=1 and \\\n",
    "        len(pwd) >= 8:\n",
    "        return 4\n",
    "def problem10():\n",
    "    strongness = {1:\"very week\",2:\"weak\",3:\"strong\",4:\"very string\"}\n",
    "    #input \n",
    "    pwd = input(\"Please enter a password: \")\n",
    "    \n",
    "    #calculation\n",
    "    pwdStrongness = strongness[passwordValidator(pwd)]\n",
    "    \n",
    "    #ouput \n",
    "    print(\"The password {} is a {} password\".format(pwd, pwdStrongness))\n",
    "    \n",
    "problem10()    "
   ]
  },
  {
   "cell_type": "markdown",
   "metadata": {},
   "source": [
    "# Problem 11 (6 points)\n",
    "\n",
    "Write a program that will help you determine how many months it will take to pay off a credit card balance. The program should ask the user to enter the balance of a credit card and the APR of the card. The program should then return the number of months needed.\n",
    "\n",
    "The formula for this is\n",
    "\n",
    "$n = -\\frac{1}{30} \\times \\frac{\\log(1 + \\frac{b}{p}(1 - (1 + i)^{30}))}{\\log(1+i)}$\n",
    "\n",
    "where\n",
    "\n",
    "- `n` is the number of months.\n",
    "- `i` is the daily rate (APR divided by 365).\n",
    "- `b` is the balance.\n",
    "- `p` is the monthly payment.\n",
    "\n",
    "## Example Output\n",
    "\n",
    "<pre>\n",
    "What is your balance? 5000\n",
    "What is the APR on the card (as a percent)? 12\n",
    "What is the monthly payment you can make? 100\n",
    "\n",
    "It will take you 70 months to pay off this card.\n",
    "</pre>\n",
    "\n",
    "## Constraints\n",
    "\n",
    "- Prompt for the card’s APR. Do the division internally.\n",
    "- Prompt for the APR as a percentage, not a decimal.\n",
    "- Use a function called `calculateMonthsUntilPaidOff`, which accepts the balance, the APR, and the monthly payment as its arguments and returns the number of months. Don’t access any of these values outside the function.\n",
    "- Round fractions of a cent up to the next cent."
   ]
  },
  {
   "cell_type": "code",
   "execution_count": 69,
   "metadata": {
    "collapsed": false
   },
   "outputs": [
    {
     "name": "stdout",
     "output_type": "stream",
     "text": [
      "What is the balance? 5000\n",
      "What is the APR on the card (as a percent)? 12\n",
      "What is the monthly payment you can make? 100\n",
      "\n",
      "It will take you 70 months to pay off this card.\n"
     ]
    }
   ],
   "source": [
    "from math import log\n",
    "\n",
    "def calculateMonthsUntilPaidOff(b, apr, p):\n",
    "    i = (apr/100)/365\n",
    "    prelog = 1+((b/p)*(1-((1+i)**30)))\n",
    "    numerator = log(round(prelog,2))\n",
    "    denominator = log(1+i)           \n",
    "    n = round((-1/30) * (numerator/denominator))\n",
    "    return n\n",
    "\n",
    "def getPositiveFloatInput(message):\n",
    "    while True:\n",
    "        try:\n",
    "            inpt = float(input(message))\n",
    "            if inpt >= 0:\n",
    "                break\n",
    "            print(\"Please enter a positive number\")\n",
    "        except ValueError:        \n",
    "            print(\"Please enter a positive number\") \n",
    "    return inpt\n",
    "\n",
    "def getPositiveIntegerInput(message):\n",
    "    while True:\n",
    "        try:\n",
    "            inpt = int(input(message))  \n",
    "            break\n",
    "        except ValueError:\n",
    "            print(\"Please enter a positive integer\") \n",
    "    return inpt\n",
    "\n",
    "def problem11():\n",
    "    #inputs\n",
    "    b = getPositiveFloatInput(\"What is the balance? \")\n",
    "    apr = getPositiveIntegerInput(\"What is the APR on the card (as a percent)? \")  \n",
    "    p = getPositiveFloatInput(\"What is the monthly payment you can make? \")\n",
    "    \n",
    "    # Calulations\n",
    "    n = calculateMonthsUntilPaidOff(b, apr, p)\n",
    "    \n",
    "    # Output\n",
    "    print(\"\\nIt will take you {} months to pay off this card.\".format(n))\n",
    "\n",
    "problem11()"
   ]
  },
  {
   "cell_type": "markdown",
   "metadata": {},
   "source": [
    "# Problem 12 (4 points)\n",
    "\n",
    "Write a program that prompts for a first name, last name, employee ID, and ZIP code. Ensure that the input is valid according to these rules:\n",
    "\n",
    "- The first name must be filled in.\n",
    "- The last name must be filled in.\n",
    "- The first and last names must be at least two characters long.\n",
    "- An employee ID is in the format AA-1234. So, two letters, a hyphen, and four numbers.\n",
    "- The ZIP code must be a number.\n",
    "\n",
    "Display appropriate error messages on incorrect data.\n",
    "\n",
    "## Example Output\n",
    "\n",
    "<pre>\n",
    "Enter the first name: J\n",
    "Enter the last name:\n",
    "Enter the ZIP code: ABCDE\n",
    "Enter an employee ID:  A12-1234\n",
    "\"J\" is not a valid first name. It is too short.\n",
    "The last name must be filled in.\n",
    "The ZIP code must be numeric.\n",
    "A12-1234 is not a valid ID.\n",
    "</pre>\n",
    "\n",
    "Or\n",
    "\n",
    "<pre>\n",
    "Enter the first name: Jimmy\n",
    "Enter the last name: James\n",
    "Enter the ZIP code: 55555\n",
    "Enter an employee ID:  TK-421\n",
    "There were no errors found.\n",
    "</pre>\n",
    "\n",
    "## Constraints\n",
    "\n",
    "- Create a function for each type of validation you need to write. Then create a `validateInput` function that takes in all of the input data and invokes the specific validation functions.\n",
    "- Use a single output statement to display the outputs."
   ]
  },
  {
   "cell_type": "code",
   "execution_count": 102,
   "metadata": {
    "collapsed": false
   },
   "outputs": [
    {
     "name": "stdout",
     "output_type": "stream",
     "text": [
      "Enter the first name:Luis\n",
      "Enter the last name:Moros\n",
      "Enter the ZIP code:32751\n",
      "Enter an employee ID:AA-1234\n",
      "There were no errors found.\n"
     ]
    }
   ],
   "source": [
    "import re\n",
    "\n",
    "def validateName(name, nameType):\n",
    "    if len(name)==0:\n",
    "        return \"The {} name must be filled in.\\n\".format(nameType)\n",
    "    if len(name)<2:\n",
    "        return '\"{}\" is not a valid {} name. It is too short.\\n'.format(name,nameType)\n",
    "    return \"\"\n",
    "\n",
    "def validateEId(eid):\n",
    "    regex = r\"(^[a-zA-Z]{2})-(\\d{4})$\"\n",
    "    if re.search(regex, eid): \n",
    "        return \"\"\n",
    "    return \"{} is not a valid ID\\n\".format(eid)\n",
    "\n",
    "def validateZip(zipCd):\n",
    "    if sum(c.isdigit() for c in zipCd)!=len(zipCd):\n",
    "        return \"The ZIP code must be numeric.\\n\" \n",
    "    return \"\"\n",
    "    \n",
    "def validateInput(first, last, eid, zipCd):\n",
    "    return \"\".join((validateName(first,\"first\"), \\\n",
    "                   validateName(last, \"last\"), \\\n",
    "                   validateZip(zipCd), \\\n",
    "                   validateEId(eid)))\n",
    "def problem12():\n",
    "    #inputs\n",
    "    first = input(\"Enter the first name:\")\n",
    "    last = input(\"Enter the last name:\") \n",
    "    zipcd = input(\"Enter the ZIP code:\")\n",
    "    eid = input(\"Enter an employee ID:\")\n",
    "    \n",
    "    errors = validateInput(first, last, eid, zipcd)\n",
    "    \n",
    "    output = \"There were no errors found.\" if len(errors)==0 else errors\n",
    "    print(output)\n",
    "    \n",
    "problem12()    "
   ]
  },
  {
   "cell_type": "markdown",
   "metadata": {},
   "source": [
    "\n",
    "# Problem 13 (3 points)\n",
    "\n",
    "Write a program that prompts the user for five numbers and computes the total of the numbers.\n",
    "\n",
    "## Example Output\n",
    "\n",
    "<pre>\n",
    "Enter a number: 1\n",
    "Enter a number: 2\n",
    "Enter a number: 3\n",
    "Enter a number: 4\n",
    "Enter a number: 5\n",
    "The total is 15.\n",
    "</pre>\n",
    "\n",
    "## Constraints\n",
    "\n",
    "- The prompting must use repetition, such as a counted loop, not five separate prompts."
   ]
  },
  {
   "cell_type": "code",
   "execution_count": 114,
   "metadata": {
    "collapsed": false
   },
   "outputs": [
    {
     "name": "stdout",
     "output_type": "stream",
     "text": [
      "Enter a number: 1\n",
      "Enter a number: asfa\n",
      "Only integers are allowed\n",
      "Enter a number: 2\n",
      "Enter a number: asdf\n",
      "Only integers are allowed\n",
      "Enter a number: 3\n",
      "Enter a number: fadsfa\n",
      "Only integers are allowed\n",
      "Enter a number: 4\n",
      "Enter a number: asdfa\n",
      "Only integers are allowed\n",
      "Enter a number: 5\n",
      "15\n"
     ]
    }
   ],
   "source": [
    "#### from functools import reduce\n",
    "\n",
    "def problem13():\n",
    "    #inputs\n",
    "    items = 5\n",
    "    numbers = [None]*items\n",
    "    i=0\n",
    "    while i<items:\n",
    "        try:\n",
    "            num = int(input(\"Enter a number: \"))\n",
    "            numbers[i] = num\n",
    "            i=i+1\n",
    "        except ValueError:\n",
    "            print(\"Only integers are allowed\")\n",
    "        \n",
    "    #calculations\n",
    "    result = reduce((lambda acc, x: acc + x),numbers)\n",
    "    \n",
    "    #output\n",
    "    print(result)\n",
    "    \n",
    "problem13()    "
   ]
  },
  {
   "cell_type": "markdown",
   "metadata": {},
   "source": [
    "# Problem 14 (5 points)\n",
    "\n",
    "Write a quick calculator that prompts for the rate of return on an investment and calculates how many years it will take to double your investment.\n",
    "\n",
    "The formula is $years = 72 / r$, where $r$ is the stated rate of return.\n",
    "\n",
    "## Example Output\n",
    "\n",
    "<pre>\n",
    "What is the rate of return? 0\n",
    "Sorry. That's not a valid input.\n",
    "What is the rate of return? ABC\n",
    "Sorry. That's not a valid input.\n",
    "What is the rate of return? 4\n",
    "It will take 18 years to double your initial investment.\n",
    "</pre>\n",
    "\n",
    "## Constraints\n",
    "\n",
    "- Don’t allow the user to enter 0.\n",
    "- Don’t allow non-numeric values.\n",
    "- Use a loop to trap bad input, so you can ensure that the user enters valid values."
   ]
  },
  {
   "cell_type": "code",
   "execution_count": 117,
   "metadata": {
    "collapsed": false
   },
   "outputs": [
    {
     "name": "stdout",
     "output_type": "stream",
     "text": [
      "What is the rate of return?73\n",
      "It will take 1 years to double your initial investment.\n"
     ]
    }
   ],
   "source": [
    "def problem14():\n",
    "    #constants\n",
    "    badInputMessage = \"Sorry. That's not a valid input.\"\n",
    "    #inputs\n",
    "    while True:\n",
    "        try:\n",
    "            r = int(input(\"What is the rate of return?\"))\n",
    "            if r != 0:\n",
    "                break\n",
    "            print(badInputMessage)\n",
    "        except ValueError:\n",
    "            print(badInputMessage)\n",
    "    #calcualtions\n",
    "    y = round(72/r)\n",
    "\n",
    "    #output\n",
    "    print(\"It will take {} years to double your initial investment.\".format(y))\n",
    "    \n",
    "problem14()"
   ]
  },
  {
   "cell_type": "markdown",
   "metadata": {},
   "source": [
    "# Problem 15 (3 points)\n",
    "\n",
    "Create a program that generates multiplication tables for the numbers 0 through 12.\n",
    "\n",
    "## Example Output\n",
    "\n",
    "<pre>\n",
    "       1    2  ...   12\n",
    "  1    1    2        12\n",
    "  2    2    4        24\n",
    "  :\n",
    " 12   12   24       144\n",
    "</pre>\n",
    "\n",
    "## Constraint\n",
    "\n",
    "- Use a nested loop to complete this program."
   ]
  },
  {
   "cell_type": "code",
   "execution_count": 1,
   "metadata": {
    "collapsed": false
   },
   "outputs": [
    {
     "name": "stdout",
     "output_type": "stream",
     "text": [
      "1     2     3     4     5     6     7     8     9     10    11    12    \n",
      "2     4     6     8     10    12    14    16    18    20    22    24    \n",
      "3     6     9     12    15    18    21    24    27    30    33    36    \n",
      "4     8     12    16    20    24    28    32    36    40    44    48    \n",
      "5     10    15    20    25    30    35    40    45    50    55    60    \n",
      "6     12    18    24    30    36    42    48    54    60    66    72    \n",
      "7     14    21    28    35    42    49    56    63    70    77    84    \n",
      "8     16    24    32    40    48    56    64    72    80    88    96    \n",
      "9     18    27    36    45    54    63    72    81    90    99    108   \n",
      "10    20    30    40    50    60    70    80    90    100   110   120   \n",
      "11    22    33    44    55    66    77    88    99    110   121   132   \n",
      "12    24    36    48    60    72    84    96    108   120   132   144   \n"
     ]
    }
   ],
   "source": [
    "def problem15(topFactor):\n",
    "    for i in range(1,topFactor+1):\n",
    "        print(\"\".join(\"{:6}\"\\\n",
    "                .format(str(i*j))\\\n",
    "                 for j in range(1,topFactor+1)))\n",
    "    \n",
    "problem15(12)"
   ]
  },
  {
   "cell_type": "markdown",
   "metadata": {},
   "source": [
    "# Problem 16 (5 points)\n",
    "\n",
    "When getting into a fitness program, you may want to figure out your target heart rate so you don’t overexert yourself. The Karvonen heart rate formula is one method you can use to determine your rate. Create a program that prompts for your age and your resting heart rate. Use the Karvonen formula to determine the target heart rate based on a range of intensities from 55% to 95%. Generate a table with the results as shown in the example output. The formula is\n",
    "\n",
    "$TargetHR = (((220 - age) - restingHR) \\times intensity) + restingHR$\n",
    "\n",
    "## Example Output\n",
    "\n",
    "<pre>\n",
    "Resting Pulse: 65    Age: 22\n",
    "\n",
    "Intensity    | Rate\n",
    "-------------|--------\n",
    "55%          | 138 bpm\n",
    "60%          | 145 bpm\n",
    "65%          | 151 bpm\n",
    " :              :       (extra lines omitted)\n",
    "85%          | 178 bpm\n",
    "90%          | 185 bpm\n",
    "95%          | 191 bpm\n",
    "</pre>\n",
    "\n",
    "## Constraints\n",
    "\n",
    "- Don’t hard-code the percentages. Use a loop to increment the percentages from 55 to 95.\n",
    "- Ensure that the heart rate and age are entered as numbers. Don’t allow the user to continue without entering valid inputs.\n",
    "- Display the results in a tabular format."
   ]
  },
  {
   "cell_type": "code",
   "execution_count": 19,
   "metadata": {
    "collapsed": false
   },
   "outputs": [
    {
     "name": "stdout",
     "output_type": "stream",
     "text": [
      "Please enter your age: 40\n",
      "Please enter you resting pulse asf\n",
      "Only integers are allowed\n",
      "Please enter your age: 40\n",
      "Please enter you resting pulse asf\n",
      "Only integers are allowed\n",
      "Please enter your age: asdf\n",
      "Only integers are allowed\n",
      "Please enter your age: 10\n",
      "Please enter you resting pulse 20\n",
      "\n",
      "Intensity    |Rate    \n",
      "-------------|--------\n",
      "55           |124  bpm\n",
      "60           |134  bpm\n",
      "65           |143  bpm\n",
      "70           |153  bpm\n",
      "75           |162  bpm\n",
      "80           |172  bpm\n",
      "85           |181  bpm\n",
      "90           |191  bpm\n",
      "95           |200  bpm\n",
      "\n"
     ]
    }
   ],
   "source": [
    "def problem16():\n",
    "\n",
    "    def inputs():\n",
    "        while True:\n",
    "            try:\n",
    "                a = int(input(\"Please enter your age: \"))\n",
    "                r = int(input(\"Please enter you resting pulse \"))\n",
    "                break\n",
    "            except ValueError:\n",
    "                print(\"Only integers are allowed\")\n",
    "        return a,r\n",
    "    \n",
    "    def calculateRate(age, restingHR, instensity):\n",
    "        return int((((220-age)-restingHR)*(instensity/100))+restingHR)\n",
    "    \n",
    "    def outputs(intensities_rates):        \n",
    "        print()\n",
    "        print(\"{:<13}|{:<8}\".format(\"Intensity\",\"Rate\"))\n",
    "        print(\"-------------|--------\")\n",
    "        print(\"\".join([\"{:<13}|{:<4} bpm\\n\".format(x,y) for x,y in intensities_rates]))\n",
    "    \n",
    "    age,restingHR = inputs()\n",
    "    outputs(tuple(((i, calculateRate(age,restingHR, i)) for i in range(55,96,5))))\n",
    "\n",
    "problem16()"
   ]
  },
  {
   "cell_type": "markdown",
   "metadata": {},
   "source": [
    "# Problem 17 (4 points)\n",
    "\n",
    "Write a Guess the Number game that has three levels of difficulty. The first level of difficulty would be a number between 1 and 10. The second difficulty set would be between 1 and 100. The third difficulty set would be between 1 and 1000.\n",
    "\n",
    "Prompt for the difficulty level, and then start the game. The computer picks a random number in that range and prompts the player to guess that number. Each time the player guesses, the computer should give the player a hint as to whether the number is too high or too low. The computer should also keep track of the number of guesses. Once the player guesses the correct number, the computer should present the number of guesses and ask if the player would like to play again.\n",
    "\n",
    "## Example Output\n",
    "\n",
    "<pre>\n",
    "Let's play Guess the Number.\n",
    "Pick a difficulty level (1, 2, or 3): 1\n",
    "I have my number. What's your guess? 1\n",
    "Too low.  Guess again: 5\n",
    "Too high. Guess again: 2\n",
    "You got it in 3 guesses!\n",
    "Play again? n\n",
    "Goodbye!\n",
    "</pre>\n",
    "\n",
    "## Constraints\n",
    "\n",
    "- Don’t allow any non-numeric data entry.\n",
    "- During the game, count non-numeric entries as wrong guesses."
   ]
  },
  {
   "cell_type": "code",
   "execution_count": 2,
   "metadata": {
    "collapsed": false
   },
   "outputs": [
    {
     "name": "stdout",
     "output_type": "stream",
     "text": [
      "Pick a difficulty level (1, 2, or 3): 1\n",
      "I have my number. What's your guess? 5\n",
      "Too high. Guess again: 3\n",
      "Too low. Guess again: 4\n",
      "You got it in 3 guesses!\n",
      "Play again? n\n",
      "Goodbye!\n"
     ]
    }
   ],
   "source": [
    "from random import randint\n",
    "\n",
    "def problem17():\n",
    "    def promptDificulty():\n",
    "        while True:\n",
    "            badInputMessage = \"Only 1,2 or 3 are allowed\"\n",
    "            try:\n",
    "                d = int(input(\"Pick a difficulty level (1, 2, or 3): \"))\n",
    "                if (d not in (1,2,3)):\n",
    "                    print(badInputMessage)\n",
    "                else:\n",
    "                    break\n",
    "            except ValueError:\n",
    "                print (badInputMessage)\n",
    "        return d\n",
    "    def generateNumber(difficulty):\n",
    "        n = randint(1,10**difficulty)\n",
    "        return  n\n",
    "    \n",
    "    def game():\n",
    "        n = generateNumber(promptDificulty())\n",
    "        attempts = 0        \n",
    "        firstMessage = \"I have my number. \"\n",
    "        while True:\n",
    "            try:    \n",
    "                if (attempts == 0): \n",
    "                    g = int(input(\"\".join([firstMessage,\"What's your guess? \"])))\n",
    "                else: \n",
    "                    g = int(input(\"\".join([firstMessage,\"Guess again: \"])))                \n",
    "                if g>n: \n",
    "                    firstMessage = \"Too high. \"\n",
    "                elif g<n: \n",
    "                    firstMessage = \"Too low. \"\n",
    "                else:\n",
    "                    print(\"You got it in {} guesses!\".format(attempts+1))        \n",
    "                    break;                    \n",
    "            except ValueError:\n",
    "                firstMessage = \"Not a number\"\n",
    "            finally:\n",
    "                attempts +=1   \n",
    "    while True:\n",
    "        game()\n",
    "        playAgain = input(\"Play again? \")\n",
    "        if playAgain != \"y\" and playAgain != \"Y\":\n",
    "            print(\"Goodbye!\")\n",
    "            break\n",
    "    \n",
    "problem17()    "
   ]
  },
  {
   "cell_type": "markdown",
   "metadata": {},
   "source": [
    "# Problem 18 (3 points)\n",
    "\n",
    "Create a Magic 8 Ball game that prompts for a question and then displays either \"Yes,\" \"No,\" \"Maybe,\" or \"Ask again later.\"\n",
    "\n",
    "## Example Output\n",
    "\n",
    "<pre>\n",
    "What's your question?  Will I be rich and famous?\n",
    "Ask again later.\n",
    "</pre>\n",
    "\n",
    "## Constraint\n",
    "\n",
    "- The value should be chosen randomly using a pseudo random number generator. Store the possible choices in a list and select one at random."
   ]
  },
  {
   "cell_type": "code",
   "execution_count": 46,
   "metadata": {
    "collapsed": false
   },
   "outputs": [
    {
     "name": "stdout",
     "output_type": "stream",
     "text": [
      "What's your question? Is this correct\n",
      "Maybe\n"
     ]
    }
   ],
   "source": [
    "from random import randint\n",
    "def problem18():\n",
    "    def inputs():\n",
    "        input(\"What's your question? \")\n",
    "        \n",
    "    def guessCalculation():\n",
    "        return {1:\"Yes\", 2:\"No\", 3:\"Maybe\", 4:\"Ask again later.\"}\\\n",
    "                [randint(1,4)]\n",
    "        \n",
    "    def outputs(a):\n",
    "        print(a)\n",
    "    \n",
    "    # Processing steps\n",
    "    inputs()\n",
    "    g = guess()\n",
    "    outputs(g)\n",
    "    \n",
    "problem18()       "
   ]
  },
  {
   "cell_type": "markdown",
   "metadata": {},
   "source": [
    "# Problem 19 (3 points)\n",
    "\n",
    "Create a small program that contains a list of employee names. Print out the list of names when the program runs the first time. Prompt for an employee name and remove that specific name from the list of names. Display the remaining employees, each on its own line.\n",
    "\n",
    "## Example Output\n",
    "\n",
    "<pre>\n",
    "There are 5 employees:\n",
    "John Smith\n",
    "Jackie Jackson\n",
    "Chris Jones\n",
    "Amanda Cullen\n",
    "Jeremy Goodwin\n",
    "\n",
    "Enter an employee name to remove: Chris Jones\n",
    "\n",
    "There are 4 employees:\n",
    "John Smith\n",
    "Jackie Jackson\n",
    "Amanda Cullen\n",
    "Jeremy Goodwin\n",
    "</pre>\n",
    "\n",
    "## Constraint\n",
    "\n",
    "- Use a sequence or list to store the names."
   ]
  },
  {
   "cell_type": "code",
   "execution_count": 54,
   "metadata": {
    "collapsed": false
   },
   "outputs": [
    {
     "name": "stdout",
     "output_type": "stream",
     "text": [
      "There are 5 employees\n",
      "John Smith\n",
      "Jackie Jackson\n",
      "Chris Jones\n",
      "Amanda Cullen\n",
      "Jeremy Goodwin\n",
      "Enter an employee name to remove: Amanda Cullen\n",
      "There are 4 employees\n",
      "John Smith\n",
      "Jackie Jackson\n",
      "Chris Jones\n",
      "Jeremy Goodwin\n"
     ]
    }
   ],
   "source": [
    "def problem19():\n",
    "    def showEmployees(empls):\n",
    "        print(\"There are {} employees\".format(len(empls)))\n",
    "        print(\"\\n\".join(empls))\n",
    "        \n",
    "    def inputs():\n",
    "        return input(\"Enter an employee name to remove: \")\n",
    "    \n",
    "    def removedEmpl(empls, remEmpl):\n",
    "        return empls.remove(remEmpl)\n",
    "    # Predefine list of employees\n",
    "    employees = [\"John Smith\",\"Jackie Jackson\",\"Chris Jones\",\"Amanda Cullen\",\"Jeremy Goodwin\"]\n",
    "    \n",
    "    #Processing steps\n",
    "    showEmployees(employees)\n",
    "    inp = inputs()\n",
    "    removedEmpl(employees,inp)\n",
    "    showEmployees(employees)\n",
    "    \n",
    "problem19()"
   ]
  },
  {
   "cell_type": "markdown",
   "metadata": {},
   "source": [
    "# Problem 20 (5 points)\n",
    "\n",
    "Create a program that picks a winner for a contest or prize drawing. Prompt for names of contestants until the user leaves the entry blank. Then randomly select a winner.\n",
    "\n",
    "## Example Output\n",
    "\n",
    "<pre>\n",
    "Enter a name: Homer\n",
    "Enter a name: Bart\n",
    "Enter a name: Maggie\n",
    "Enter a name: Lisa\n",
    "Enter a name: Moe\n",
    "Enter a name:\n",
    "The winner is... Maggie.\n",
    "</pre>\n",
    "\n",
    "## Constraints\n",
    "\n",
    "- Use a loop to capture user input into a sequence.\n",
    "- Use a random number generator to pluck a value from the sequence.\n",
    "- Don’t include a blank entry in the sequence."
   ]
  },
  {
   "cell_type": "code",
   "execution_count": 36,
   "metadata": {
    "collapsed": false
   },
   "outputs": [
    {
     "name": "stdout",
     "output_type": "stream",
     "text": [
      "Enter a name: Luis\n",
      "Enter a name: Moros\n",
      "Enter a name:    \n",
      "The winner is... Moros\n"
     ]
    }
   ],
   "source": [
    "from random import randint\n",
    "\n",
    "def problem20():\n",
    "    def inputs(candidates):\n",
    "        while True:\n",
    "            candidate = input(\"Enter a name: \")\n",
    "            if candidate.strip() == \"\": \n",
    "                break\n",
    "            candidates.append(candidate)\n",
    "        return candidates\n",
    "    \n",
    "    def process(candidates):\n",
    "        # Choose winner\n",
    "        return candidates[randint(0,len(candidates)-1)]\n",
    "    \n",
    "    def output(winner):\n",
    "        print(\"The winner is... {}\".format(winner))\n",
    "\n",
    "    output(process(inputs([])))\n",
    "    \n",
    "problem20()"
   ]
  },
  {
   "cell_type": "markdown",
   "metadata": {},
   "source": [
    "# Problem 21 (6 points)\n",
    "\n",
    "Write a program that prompts for response times from a website in milliseconds. It should keep asking for values until the user enters “done.”\n",
    "\n",
    "The program should print the average time (mean), the minimum time, the maximum time, and the standard deviation.\n",
    "\n",
    "To compute the average (mean)\n",
    "- Compute the sum of all values.\n",
    "- Divide the sum by the number of values.\n",
    "\n",
    "To compute the standard deviation\n",
    "- Calculate the difference from the mean for each number and square it.\n",
    "- Compute the mean of the squared values.\n",
    "- Take the square root of the mean.\n",
    "\n",
    "## Example Output\n",
    "\n",
    "<pre>\n",
    "Enter a number: 100\n",
    "Enter a number: 200\n",
    "Enter a number: 1000\n",
    "Enter a number: 300\n",
    "Enter a number: done\n",
    "\n",
    "Numbers: 100, 200, 1000, 300\n",
    "The average is 400.\n",
    "The minimum is 100.\n",
    "The maximum is 1000.\n",
    "The standard deviation is 400.25.\n",
    "</pre>\n",
    "\n",
    "## Constraints\n",
    "\n",
    "- Use loops and sequences to perform the input and mathematical operations.\n",
    "- Be sure to exclude the “done” entry from the sequence of inputs.\n",
    "- Be sure to properly convert numeric values to strings.\n",
    "- Keep the input separate from the processing and the output."
   ]
  },
  {
   "cell_type": "code",
   "execution_count": 32,
   "metadata": {
    "collapsed": false
   },
   "outputs": [
    {
     "name": "stdout",
     "output_type": "stream",
     "text": [
      "Enter a number: 8\n",
      "Enter a number: 9\n",
      "Enter a number: 10\n",
      "Enter a number: done\n",
      "\n",
      "Numbers: 8, 9, 10\n",
      "The average is 9.0.\n",
      "The minimum is 8.\n",
      "The maximum is 10.\n",
      "The standard deviation is 0.82.\n"
     ]
    }
   ],
   "source": [
    "from math import sqrt\n",
    "\n",
    "def problem21():\n",
    "    def inputs(times):\n",
    "        while True:\n",
    "            try:\n",
    "                time = input(\"Enter a number: \")\n",
    "                if time.strip() == \"done\":\n",
    "                    break\n",
    "                times.append(int(time))\n",
    "            except ValueError:\n",
    "                print(\"Only numbers are allowed\")\n",
    "        return times\n",
    "    \n",
    "    def mean(times):\n",
    "        return sum(times)/len(times)\n",
    "    \n",
    "    def std(times):\n",
    "        meanTime = mean(times)\n",
    "        numberOfTimes = len(times)\n",
    "        return sqrt(sum(map(lambda t : (t-meanTime)**2/numberOfTimes, times)))\n",
    "        \n",
    "    def process(times):\n",
    "        # Calculate stats\n",
    "        return times, {\"mean\":mean(times), \"min\": min(times), \"max\":max(times),\"std\":std(times)}\n",
    "    \n",
    "    def output(times_stats):\n",
    "        times,stats = times_stats\n",
    "        print(\"\\nNumbers: {}\".format(\", \".join((str(t) for t in times))))\n",
    "        print(\"The average is {}.\".format(stats[\"mean\"]))\n",
    "        print(\"The minimum is {}.\".format(stats[\"min\"]))\n",
    "        print(\"The maximum is {}.\".format(stats[\"max\"]))\n",
    "        print(\"The standard deviation is {:.2f}.\".format(stats[\"std\"]))\n",
    "        \n",
    "    output(process(inputs([])))\n",
    "    \n",
    "problem21()"
   ]
  },
  {
   "cell_type": "markdown",
   "metadata": {},
   "source": [
    "# Problem 22 (4 points)\n",
    "\n",
    "Create a program that generates a secure password. Prompt the user for the minimum length, the number of special characters, and the number of numbers. Then generate a password for the user using those inputs.\n",
    "\n",
    "## Example Output\n",
    "\n",
    "<pre>\n",
    "What's the minimum length? 8\n",
    "How many special characters? 2\n",
    "How many numbers? 2\n",
    "Your password is\n",
    "aurn2$1s#\n",
    "</pre>\n",
    "\n",
    "## Constraints\n",
    "\n",
    "- Use lists to store the characters you’ll use to generate the passwords.\n",
    "- Add some randomness to the password generation."
   ]
  },
  {
   "cell_type": "code",
   "execution_count": 1,
   "metadata": {
    "collapsed": false
   },
   "outputs": [
    {
     "name": "stdout",
     "output_type": "stream",
     "text": [
      "What's the minimum length? 10\n",
      "How many special characters? 4\n",
      "How many numbers? 3\n",
      "Your password is\n",
      "2h@+A8LZt5\n"
     ]
    }
   ],
   "source": [
    "from random import randint\n",
    "\n",
    "def problem22():\n",
    "    def inputs():\n",
    "        while True:\n",
    "            try:\n",
    "                length = int(input(\"What's the minimum length? \"))\n",
    "                numberOfSpecialChars = int(input(\"How many special characters? \"))\n",
    "                numOfNumbers = int(input(\"How many numbers? \"))\n",
    "                break\n",
    "            except ValueError:\n",
    "                print(\"Only numbers are allowed\")\n",
    "        return length, numberOfSpecialChars, numOfNumbers \n",
    "\n",
    "    def process(length_numberOfSpecialChars_numOfNumbers):\n",
    "        length, numberOfSpecialChars, numOfNumbers = length_numberOfSpecialChars_numOfNumbers\n",
    "        pwd = \"\"\n",
    "        letters = list(\"abcdefghijklmnopqrstvwxyzABCDEFGHIJKLMNOPQRSTYVWXYZ\")\n",
    "        numbers = list(\"1234567890\")\n",
    "        specials = list(\"!@#$%^&*-+_=\")  \n",
    "        for i in range(length):\n",
    "            choose = randint(0,2)\n",
    "            if choose == 0:\n",
    "                pwd = \"{}{}\".format(pwd, letters[randint(0,len(letters)-1)])\n",
    "            elif choose == \n",
    "                pwd = \"{}{}\".format(pwd, numbers[randint(0,len(numbers)-1)])\n",
    "            else:\n",
    "                pwd = \"{}{}\".format(pwd, specials[randint(0,len(specials)-1)])\n",
    "        return pwd\n",
    "    \n",
    "    def output(pwd):\n",
    "        print(\"Your password is\\n{}\".format(pwd))\n",
    "        \n",
    "    output(process(inputs()))\n",
    "    \n",
    "problem22()"
   ]
  },
  {
   "cell_type": "markdown",
   "metadata": {},
   "source": [
    "# Problem 23 (5 points)\n",
    "\n",
    "Create a program that prompts for a list of numbers, separated by spaces. Have the program print out a new list containing only the even numbers.\n",
    "\n",
    "## Example Output\n",
    "\n",
    "<pre>\n",
    "Enter a list of numbers, separated by spaces:  1 2 3 4 5 6 7 8\n",
    "The even numbers are 2 4 6 8.\n",
    "</pre>\n",
    "\n",
    "## Constraints\n",
    "\n",
    "- Convert the input to an sequence. Many languages can easily convert strings to arrays with a built-in function that splits apart a string based on a specified delimiter.\n",
    "- Write your own algorithm — don’t rely on the language’s built-in filter or similar enumeration feature.\n",
    "- Use a function called `filterEvenNumbers` to encapsulate the logic for this. The function takes in the old sequence and returns the new sequence."
   ]
  },
  {
   "cell_type": "code",
   "execution_count": 7,
   "metadata": {
    "collapsed": false
   },
   "outputs": [
    {
     "name": "stdout",
     "output_type": "stream",
     "text": [
      "Enter a list of numbers, separated by spaces:  1 2 3 4 5\n",
      "The even numbers are 2 4\n"
     ]
    }
   ],
   "source": [
    "from functools import reduce\n",
    "\n",
    "def problem23():\n",
    "    def inputs():\n",
    "        while True:\n",
    "            try:\n",
    "                numChars =  input(\"Enter a list of numbers, separated by spaces:  \").split(\" \")\n",
    "                nums = [int(x) for x in numChars if x != '']\n",
    "            except ValueError:\n",
    "                print(\"Only numbers are allowed\")\n",
    "            break    \n",
    "        return nums    \n",
    "    def filterEvenNumbers(nums):\n",
    "        return [x for x in nums if x%2==0]\n",
    "    \n",
    "    def output(evenNums):\n",
    "        print(\"The even numbers are {}\".format(\" \".join([str(x) for x in evenNums])))\n",
    "\n",
    "    output(filterEvenNumbers(inputs()))\n",
    "    \n",
    "problem23()"
   ]
  },
  {
   "cell_type": "markdown",
   "metadata": {},
   "source": [
    "# Problem 24 (3 points)\n",
    "\n",
    "Given the following data set\n",
    "\n",
    "<pre>\n",
    "First Name    Last Name    Position             Separation date\n",
    "John          Johnson      Manager              2016-12-31\n",
    "Tou           Xiong        Software Engineer    2016-10-05\n",
    "Michaela      Michaelson   District Manager     2015-12-19\n",
    "Jake          Jacobson     Programmer\n",
    "Jacquelyn     Jackson      DBA\n",
    "Sally         Weber        Web Developer        2015-12-18\n",
    "</pre>\n",
    "\n",
    "create a program that sorts all employees by last name and prints them to the screen in a tabular format.\n",
    "\n",
    "## Example Output\n",
    "\n",
    "<pre>\n",
    "Name                | Position          | Separation Date\n",
    "--------------------|-------------------|----------------\n",
    "Jacquelyn Jackson   | DBA               |\n",
    "Jake Jacobson       | Programmer        |\n",
    "John Johnson        | Manager           | 2016-12-31\n",
    "Michaela Michaelson | District Manager  | 2015-12-19\n",
    "Sally Weber         | Web Developer     | 2015-12-18\n",
    "Tou Xiong           | Software Engineer | 2016-10-05\n",
    "</pre>\n",
    "\n",
    "## Constraint\n",
    "\n",
    "- Implement the data using a sequence of maps."
   ]
  },
  {
   "cell_type": "code",
   "execution_count": 23,
   "metadata": {
    "collapsed": false
   },
   "outputs": [
    {
     "name": "stdout",
     "output_type": "stream",
     "text": [
      "Name                | Position          | Separation Date\n",
      "--------------------|-------------------|-----------------\n",
      "Jacquelyn Jackson   | DBA               |                \n",
      "Jake Jacobson       | Programmer        |                \n",
      "John Johnson        | Manager           | 2016-12-31     \n",
      "Michaela Michaelson | District Manager  | 2015-12-19     \n",
      "Sally Weber         | Web Developer     | 2015-12-18     \n",
      "Tou Xiong           | Software Engineer | 2016-10-05     \n"
     ]
    }
   ],
   "source": [
    "def problem24():\n",
    "    def inputs():\n",
    "        return \\\n",
    "            [\\\n",
    "             {\"First Name\":\"John\", \"Last Name\":\"Johnson\", \"Position\":\"Manager\", \"Separation date\":\"2016-12-31\"},\\\n",
    "             {\"First Name\":\"Tou\", \"Last Name\":\"Xiong\", \"Position\":\"Software Engineer\", \"Separation date\":\"2016-10-05\"},\\\n",
    "             {\"First Name\":\"Michaela\", \"Last Name\":\"Michaelson\", \"Position\":\"District Manager\", \"Separation date\":\"2015-12-19\"},\\\n",
    "             {\"First Name\":\"Jake\", \"Last Name\":\"Jacobson\", \"Position\":\"Programmer\", \"Separation date\":\"\"},\\\n",
    "             {\"First Name\":\"Jacquelyn\", \"Last Name\":\"Jackson\", \"Position\":\"DBA\", \"Separation date\":\"\"},\\\n",
    "             {\"First Name\":\"Sally\", \"Last Name\":\"Weber\", \"Position\":\"Web Developer\", \"Separation date\":\"2015-12-18\"}\\\n",
    "            ]\n",
    "    def process(dataSet):        \n",
    "        return sorted(dataSet, key=lambda x: x[\"Last Name\"]) \n",
    "    \n",
    "    def output(dataSet):\n",
    "        print(\"Name                | Position          | Separation Date\")\n",
    "        print(\"--------------------|-------------------|-----------------\")\n",
    "        print(\"\\n\".join(\\\n",
    "                        [\"{:<20}| {:<18}| {:<15}\"\\\n",
    "                         .format(\"{} {}\".format(x[\"First Name\"], x[\"Last Name\"])\\\n",
    "                                 , x[\"Position\"]\\\n",
    "                                 , x[\"Separation date\"])\\\n",
    "                         for x in dataSet]))\n",
    "\n",
    "    output(process(inputs()))\n",
    "    \n",
    "problem24()"
   ]
  },
  {
   "cell_type": "markdown",
   "metadata": {},
   "source": [
    "# Problem 25 (4 points)\n",
    "\n",
    "Given the following data set\n",
    "\n",
    "<pre>\n",
    "First Name    Last Name    Position             Separation date\n",
    "John          Johnson      Manager              2016-12-31\n",
    "Tou           Xiong        Software Engineer    2016-10-05\n",
    "Michaela      Michaelson   District Manager     2015-12-19\n",
    "Jake          Jacobson     Programmer\n",
    "Jacquelyn     Jackson      DBA\n",
    "Sally         Weber        Web Developer        2015-12-18\n",
    "</pre>\n",
    "\n",
    "create a program that lets a user locate all records that match the search string by comparing the search string to the first or last name field.\n",
    "\n",
    "## Example Output\n",
    "\n",
    "<pre>\n",
    "Enter a search string:  Jac\n",
    "\n",
    "Results:\n",
    "Name                | Position          | Separation Date\n",
    "--------------------|-------------------|----------------\n",
    "Jacquelyn Jackson   | DBA               |\n",
    "Jake Jacobson       | Programmer        |\n",
    "</pre>\n",
    "\n",
    "## Constraint\n",
    "\n",
    "- Implement the data using a sequence of maps or an associative array.\n",
    "- Make the search case insensitive."
   ]
  },
  {
   "cell_type": "code",
   "execution_count": 28,
   "metadata": {
    "collapsed": false
   },
   "outputs": [
    {
     "name": "stdout",
     "output_type": "stream",
     "text": [
      "Enter a search string:  ja\n",
      "Name                | Position          | Separation Date\n",
      "--------------------|-------------------|-----------------\n",
      "Jacquelyn Jackson   | DBA               |                \n",
      "Jake Jacobson       | Programmer        |                \n"
     ]
    }
   ],
   "source": [
    "def problem25():\n",
    "    def inputs():\n",
    "        ss = input(\"Enter a search string:  \")\n",
    "        return \\\n",
    "            [\\\n",
    "             {\"First Name\":\"John\", \"Last Name\":\"Johnson\", \"Position\":\"Manager\", \"Separation date\":\"2016-12-31\"},\\\n",
    "             {\"First Name\":\"Tou\", \"Last Name\":\"Xiong\", \"Position\":\"Software Engineer\", \"Separation date\":\"2016-10-05\"},\\\n",
    "             {\"First Name\":\"Michaela\", \"Last Name\":\"Michaelson\", \"Position\":\"District Manager\", \"Separation date\":\"2015-12-19\"},\\\n",
    "             {\"First Name\":\"Jake\", \"Last Name\":\"Jacobson\", \"Position\":\"Programmer\", \"Separation date\":\"\"},\\\n",
    "             {\"First Name\":\"Jacquelyn\", \"Last Name\":\"Jackson\", \"Position\":\"DBA\", \"Separation date\":\"\"},\\\n",
    "             {\"First Name\":\"Sally\", \"Last Name\":\"Weber\", \"Position\":\"Web Developer\", \"Separation date\":\"2015-12-18\"}\\\n",
    "            ], ss\n",
    "    def process(ds_ss):\n",
    "        ds, ss = ds_ss\n",
    "        ds = sorted(ds, key=lambda x: x[\"Last Name\"])\n",
    "        return [x for x in ds if ss.lower() in x[\"First Name\"].lower()\\\n",
    "                or ss.lower() in x[\"Last Name\"].lower()]\n",
    "    \n",
    "    def output(dataSet):\n",
    "        print(\"Name                | Position          | Separation Date\")\n",
    "        print(\"--------------------|-------------------|-----------------\")\n",
    "        print(\"\\n\".join(\\\n",
    "                        [\"{:<20}| {:<18}| {:<15}\"\\\n",
    "                         .format(\"{} {}\".format(x[\"First Name\"], x[\"Last Name\"])\\\n",
    "                                 , x[\"Position\"]\\\n",
    "                                 , x[\"Separation date\"])\\\n",
    "                         for x in dataSet]))\n",
    "\n",
    "    output(process(inputs()))\n",
    "    \n",
    "problem25()"
   ]
  },
  {
   "cell_type": "markdown",
   "metadata": {},
   "source": [
    "# Problem 26 (3 points)\n",
    "\n",
    "Create a program that reads in the following list of names:\n",
    "\n",
    "<pre>\n",
    "Ling, Mai\n",
    "Johnson, Jim\n",
    "Zarnecki, Sabrina\n",
    "Jones, Chris\n",
    "Jones, Aaron\n",
    "Swift, Geoffrey\n",
    "Xiong, Fong\n",
    "</pre>\n",
    "\n",
    "Read this program and sort the list alphabetically. Then print the sorted list to a file that looks like the following example output.\n",
    "\n",
    "## Example Output\n",
    "\n",
    "<pre>\n",
    "Total of 7 names\n",
    "-----------------\n",
    "Ling, Mai\n",
    "Johnson, Jim\n",
    "Jones, Aaron\n",
    "Jones, Chris\n",
    "Swift, Geoffrey\n",
    "Xiong, Fong\n",
    "Zarnecki, Sabrina\n",
    "</pre>\n",
    "\n",
    "## Constraint\n",
    "\n",
    "- Don’t hard-code the number of names."
   ]
  },
  {
   "cell_type": "code",
   "execution_count": 1,
   "metadata": {
    "collapsed": false
   },
   "outputs": [],
   "source": [
    "def problem26():\n",
    "    def inputs():\n",
    "        with open('LuisMoros_Assigment2_data/problem26.txt', 'r') as file:\n",
    "            return [line.strip(\"\\n\") for line in file]\n",
    "\n",
    "    def process(l):\n",
    "        return sorted(l)\n",
    "    \n",
    "    def output(sl):\n",
    "        with open('LuisMoros_Assigment2_data/problem26_out.txt', 'w') as file:\n",
    "            file.write(\"Total of 7 names\\n\")\n",
    "            file.write(\"-----------------\\n\")\n",
    "            file.write(\"\\n\".join(sl))\n",
    "        \n",
    "    output(process(inputs()))    \n",
    "problem26()"
   ]
  },
  {
   "cell_type": "markdown",
   "metadata": {},
   "source": [
    "# Problem 27 (5 points)\n",
    "\n",
    "Construct a program that reads in the following data file:\n",
    "\n",
    "<pre>\n",
    "Ling,Mai,55900\n",
    "Johnson,Jim,56500\n",
    "Jones,Aaron,46000\n",
    "Jones,Chris,34500\n",
    "Swift,Geoffrey,14200\n",
    "Xiong,Fong,65000\n",
    "Zarnecki,Sabrina,51500\n",
    "</pre>\n",
    "\n",
    "Process the records and display the results formatted as a table, evenly spaced, as shown in the example output.\n",
    "\n",
    "## Example Output\n",
    "\n",
    "<pre>\n",
    "Last     First     Salary\n",
    "-------------------------\n",
    "Ling     Mai       55900\n",
    "Johnson  Jim       56500\n",
    "Jones    Aaron     46000\n",
    "Jones    Chris     34500\n",
    "Swift    Geoffrey  14200\n",
    "Xiong    Fong      65000\n",
    "Zarnecki Sabrina   51500\n",
    "</pre>\n",
    "\n",
    "## Constraints\n",
    "\n",
    "- Write your own code to parse the data. Don’t use a CSV parser.\n",
    "- Make each column one space longer than the longest value in the column.\n",
    "- Format the salary as currency with dollar signs and commas."
   ]
  },
  {
   "cell_type": "code",
   "execution_count": 55,
   "metadata": {
    "collapsed": false
   },
   "outputs": [
    {
     "name": "stdout",
     "output_type": "stream",
     "text": [
      "Last     First    Salary   \n",
      "---------------------------\n",
      "Ling     Mai      $55,900\n",
      "Johnson  Jim      $56,500\n",
      "Jones    Aaron    $46,000\n",
      "Jones    Chris    $34,500\n",
      "Swift    Geoffrey $14,200\n",
      "Xiong    Fong     $65,000\n",
      "Zarnecki Sabrina  $51,500\n"
     ]
    }
   ],
   "source": [
    "def problem27():\n",
    "    def inputs():\n",
    "        with open('LuisMoros_Assigment2_data/problem27.txt', 'r') as file:\n",
    "            return [[word.strip(\"\\n\") for word in line.split(\",\")] for line in file]\n",
    "\n",
    "    def maxLengths(l):\n",
    "        return max([len(x[0]) for x in l])\\\n",
    "               , max([len(x[1]) for x in l])\\\n",
    "               , max([len(x[1]) for x in l])\\\n",
    "               , l\n",
    "    \n",
    "    def output(l1_l2_l3_l):\n",
    "        l1, l2, l3, l = l1_l2_l3_l\n",
    "        print(\"{last:<{l1}}{first:<{l2}}{salary:<{l3}}\"\\\n",
    "              .format(last=\"Last\",l1=l1+1,first=\"First\",l2=l2+1,salary=\"Salary\",l3=l3+1))\n",
    "        print(\"-\"*(l1+l2+l3+3))\n",
    "        print(\"\\n\".join([\"{last:<{l1}}{first:<{l2}}${salary:<,.0f}\"\\\n",
    "                         .format(last=x[0],l1=l1+1,first=x[1],l2=l2+1,salary=float(x[2]),l3=l3+1)\\\n",
    "                        for x in l]))\n",
    "    \n",
    "    output(maxLengths(inputs()))  \n",
    "    \n",
    "problem27()"
   ]
  },
  {
   "cell_type": "markdown",
   "metadata": {},
   "source": [
    "# Problem 28 (4 points)\n",
    "\n",
    "Create a program that takes a product name as input and retrieves the current price and quantity for that product. The product data is in a data file in the JSON format and looks like this:\n",
    "\n",
    "<pre>\n",
    "{\n",
    "  \"products\" : [\n",
    "    {\"name\": \"Widget\", \"price\": 25.00, \"quantity\": 5 },\n",
    "    {\"name\": \"Thing\", \"price\": 15.00, \"quantity\": 5 },\n",
    "    {\"name\": \"Doodad\", \"price\": 5.00, \"quantity\": 10 }\n",
    "  ]\n",
    "}\n",
    "</pre>\n",
    "\n",
    "Print out the product name, price, and quantity if the product is found. If no product matches the search, state that no product was found and start over.\n",
    "\n",
    "Python has a module for working with JSON as part of its standard library: https://docs.python.org/3/library/json.html\n",
    "\n",
    "## Example Output\n",
    "\n",
    "<pre>\n",
    "What is the product name? iPad\n",
    "Sorry, that product was not found in our inventory.\n",
    "What is the product name? Widget\n",
    "Name: Widget\n",
    "Price: $25.00\n",
    "Quantity on hand: 5\n",
    "</pre>\n",
    "\n",
    "## Constraints\n",
    "\n",
    "- The file is in the JSON format. Use a JSON parser to pull the values out of the file.\n",
    "- If no record is found, prompt again."
   ]
  },
  {
   "cell_type": "code",
   "execution_count": 2,
   "metadata": {
    "collapsed": false
   },
   "outputs": [
    {
     "name": "stdout",
     "output_type": "stream",
     "text": [
      "What is the product name? adf\n",
      "Sorry, that product was not found in our inventory.\n",
      "What is the product name? thing\n",
      "Name: Thing\n",
      "Price: $15.00\n",
      "Quantity on hand: 5\n",
      "\n"
     ]
    }
   ],
   "source": [
    "import json\n",
    "\n",
    "def problem28():\n",
    "    def inputs():\n",
    "        return input(\"What is the product name? \")\n",
    "    \n",
    "    def loadProducts():    \n",
    "        with open('LuisMoros_Assigment2_data/problem28.json', 'r') as file:\n",
    "            return[product for product in json.load(file)[\"products\"]]        \n",
    "    \n",
    "    def search(products, search):\n",
    "        return [p for p in products if p[\"name\"].lower()==search.lower() ]\n",
    "    \n",
    "    def output(found):\n",
    "        print(\"\".join(\n",
    "              [\"Name: {}\\nPrice: ${:,.2f}\\nQuantity on hand: {}\\n\"\\\n",
    "              .format(f[\"name\"],f[\"price\"],f[\"quantity\"])\\\n",
    "              for f in found]))\n",
    "    \n",
    "    prods = loadProducts()\n",
    "    while True:\n",
    "        f = search(prods,inputs())\n",
    "        if len(f)> 0:\n",
    "            output(f)\n",
    "            break\n",
    "        print(\"Sorry, that product was not found in our inventory.\")    \n",
    "\n",
    "problem28()"
   ]
  },
  {
   "cell_type": "markdown",
   "metadata": {},
   "source": [
    "# Problem 29 (4 points)\n",
    "\n",
    "Given an input file, read the file and look for all occurrences of the word utilize. Replace each occurrence with use. Write the modified file to a new file.\n",
    "\n",
    "## Example Output\n",
    "\n",
    "Given the input file of\n",
    "\n",
    "> One should never utilize the word \"utilize\" in writing. Use \"use\" instead.\n",
    "\n",
    "The program should generate an output file containing\n",
    "\n",
    "> One should never use the word \"use\" in writing. Use \"use\" instead.\n",
    "\n",
    "## Constraints\n",
    "\n",
    "- Prompt for the name of the output file.\n",
    "- Write the output to a new file."
   ]
  },
  {
   "cell_type": "code",
   "execution_count": 7,
   "metadata": {
    "collapsed": false
   },
   "outputs": [
    {
     "name": "stdout",
     "output_type": "stream",
     "text": [
      "Please enter the file name (should be locate at: ./LuisMoros_Assigment2_data): problem29.txt\n"
     ]
    }
   ],
   "source": [
    "def problem29():\n",
    "    def inputs():\n",
    "        while True:\n",
    "            try:\n",
    "                fileName = input(\"Please enter the file name (should be locate at: ./LuisMoros_Assigment2_data): \")\n",
    "                with open(\"\\\\\".join([\"LuisMoros_Assigment2_data\",fileName]),'r') as file:\n",
    "                    return [line.strip(\"\\n\") for line in file]\n",
    "            except FileNotFoundError:\n",
    "                print(\"The file was not found, please try again\")\n",
    "            \n",
    "    def process(lines):\n",
    "        return [line.replace(\"utilize\",\"use\") for line in lines]\n",
    "    \n",
    "    def output(lines):\n",
    "        with open(\"LuisMoros_Assigment2_data\\problem29_out.txt\",'w') as file:\n",
    "            file.write(\"\\n\".join(lines))\n",
    "    \n",
    "    output(process(inputs()))\n",
    "\n",
    "problem29()"
   ]
  },
  {
   "cell_type": "markdown",
   "metadata": {},
   "source": [
    "# Problem 30 (3 points)\n",
    "\n",
    "Create a program that reads in a file and counts the frequency of words in the file. Then construct a histogram displaying the words and the frequency, and display the histogram to the screen.\n",
    "\n",
    "## Example Output\n",
    "\n",
    "Given the text file words.txt with this content\n",
    "\n",
    "> badger badger badger badger mushroom mushroom snake badger badger badger\n",
    "\n",
    "the program would produce the following output:\n",
    "\n",
    "<pre>\n",
    "badger:   *******\n",
    "mushroom: **\n",
    "snake:    *\n",
    "</pre>\n",
    "\n",
    "## Constraint\n",
    "\n",
    "- Ensure that the most used word is at the top of the report and the least used words are at the bottom."
   ]
  },
  {
   "cell_type": "code",
   "execution_count": 4,
   "metadata": {
    "collapsed": false
   },
   "outputs": [
    {
     "name": "stdout",
     "output_type": "stream",
     "text": [
      "badger:   *******\n",
      "mushroom: **\n",
      "snake:    *\n"
     ]
    }
   ],
   "source": [
    "def problem30():\n",
    "    def inputs():\n",
    "        with open(\"LuisMoros_Assigment2_data\\words.txt\",'r') as file:\n",
    "            return [word.strip(\"\\n\").strip(\" \") for line in file for word in line.split(\" \") ]\n",
    "    \n",
    "    def process(words):\n",
    "        # counting\n",
    "        wordSet = [{\"word\":x, \"count\":0} for x in set(words)]\n",
    "        for w in words:\n",
    "            for x in wordSet:\n",
    "                if w == x[\"word\"]:\n",
    "                    x[\"count\"]+=1\n",
    "        \n",
    "        # sorting\n",
    "        return sorted(wordSet, key=lambda x: x[\"count\"], reverse=True)\n",
    "    \n",
    "    def output(counts):\n",
    "        # get max word length\n",
    "        wordLen = max([len(x['word']) for x in counts])+2\n",
    "        \n",
    "        # format and print\n",
    "        print(\"\\n\".join([\"{w:<{l}}{c}\"\\\n",
    "                         .format(w=\"{}:\".format(x[\"word\"])\\\n",
    "                                 , l=wordLen\\\n",
    "                                 , c=x[\"count\"]*'*')\\\n",
    "                         for x in counts]))\n",
    "\n",
    "    output(process(inputs()))\n",
    "    \n",
    "problem30()"
   ]
  }
 ],
 "metadata": {
  "anaconda-cloud": {},
  "kernelspec": {
   "display_name": "Python [default]",
   "language": "python",
   "name": "python3"
  },
  "language_info": {
   "codemirror_mode": {
    "name": "ipython",
    "version": 3
   },
   "file_extension": ".py",
   "mimetype": "text/x-python",
   "name": "python",
   "nbconvert_exporter": "python",
   "pygments_lexer": "ipython3",
   "version": "3.5.2"
  }
 },
 "nbformat": 4,
 "nbformat_minor": 1
}
