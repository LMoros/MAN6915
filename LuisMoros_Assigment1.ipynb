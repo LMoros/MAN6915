{
 "cells": [
  {
   "cell_type": "markdown",
   "metadata": {},
   "source": [
    "**Program #1**\n",
    "\n",
    "Create a program that prompts for your name and prints a greeting using your name. \n",
    "\n",
    "Example Output\n",
    "\t\n",
    "   - What is your name? Brian\n",
    "\t\n",
    "   - Hello, Brian, nice to meet you!\n",
    "   \n",
    "Constraint\n",
    "\n",
    "   - Keep the input, string concatenation, and output separate. "
   ]
  },
  {
   "cell_type": "code",
   "execution_count": 25,
   "metadata": {
    "collapsed": false,
    "scrolled": false
   },
   "outputs": [
    {
     "name": "stdout",
     "output_type": "stream",
     "text": [
      "What is your name?Luis Moros\n",
      "Hello, Luis Moros, nice to meet you!\n"
     ]
    }
   ],
   "source": [
    "def problem1():\n",
    "    name = input(\"What is your name?\")\n",
    "    greeting = \"Hello, {name}, nice to meet you!\".format(name = name)\n",
    "    print(greeting)\n",
    "    \n",
    "problem1()    "
   ]
  },
  {
   "cell_type": "markdown",
   "metadata": {},
   "source": [
    "**Program #2**\n",
    "\n",
    "Create a program that prompts for an input string and displays output that shows the input string and the number of characters the string contains.\n",
    "\n",
    "Example Output\n",
    "\n",
    "   - What is the input string? Homer\n",
    "\n",
    "   - Homer has 5 characters.\n",
    "\n",
    "Constraints\n",
    "   - Be sure the output contains the original string.\n",
    "\n",
    "   - Use a single output statement to construct the output.\n",
    "\n",
    "   - Use a built-in function to determine the length of the string."
   ]
  },
  {
   "cell_type": "code",
   "execution_count": 29,
   "metadata": {
    "collapsed": false
   },
   "outputs": [
    {
     "name": "stdout",
     "output_type": "stream",
     "text": [
      "What is the input string?asdf\n",
      "asdf has 4 characters.\n"
     ]
    }
   ],
   "source": [
    "def problem2():\n",
    "    inpt = input(\"What is the input string?\")\n",
    "    inpt_len = len(inpt)\n",
    "    print(\"{input} has {input_len} characters.\".format(input=inpt, input_len=inpt_len) )\n",
    "problem2()"
   ]
  },
  {
   "cell_type": "markdown",
   "metadata": {},
   "source": [
    "**Program #3**\n",
    "\n",
    "Mad libs are a simple game where you create a story template with blanks for words. You, or another player, then construct a list of words and place them into the story, creating an often silly or funny story as a result.\n",
    "\n",
    "Create a simple mad-lib program that prompts for a noun, a verb, an adverb, and an adjective and injects those into a story that you create.\n",
    "\n",
    "Example Output\n",
    "\t\n",
    " - Enter a noun: dog \t\n",
    " - Enter a verb: walk\n",
    " - Enter an adjective: blue\n",
    " - Enter an adverb: quickly\n",
    " - Do you walk your blue dog quickly? That's hilarious!\n",
    " \n",
    "Constraints\n",
    "\n",
    " - Use a single output statement for this program."
   ]
  },
  {
   "cell_type": "code",
   "execution_count": 31,
   "metadata": {
    "collapsed": false
   },
   "outputs": [
    {
     "name": "stdout",
     "output_type": "stream",
     "text": [
      "Enter a noun: dog\n",
      "Enter a verb: run\n",
      "Enter an adjective: white\n",
      "Enter an adverb: fast\n",
      "Do you run your white dog fast? That's hilarious!\n"
     ]
    }
   ],
   "source": [
    "def problem3():\n",
    "    noun = input(\"Enter a noun: \")\n",
    "    verb = input(\"Enter a verb: \")\n",
    "    adjective = input(\"Enter an adjective: \")\n",
    "    adverb = input(\"Enter an adverb: \")\n",
    "    print(\"Do you {verb} your {adjective} {noun} {adverb}? That's hilarious!\" \\\n",
    "            .format(verb=verb, adjective=adjective, noun=noun, adverb=adverb))\n",
    "problem3()    "
   ]
  },
  {
   "cell_type": "markdown",
   "metadata": {},
   "source": [
    "**Problem #4**\n",
    "\n",
    "Write a program that prompts for two numbers. Print the sum, difference, product, and quotient of those numbers as shown in the example output:\n",
    "\n",
    "Example Output\n",
    " \t\n",
    " - What is the first number? 10\t\n",
    " - What is the second number? 5\n",
    " - 10 + 5 = 15\n",
    " - 10 - 5 = 5\t\n",
    " - 10 * 5 = 50\n",
    " - 10 / 5 = 2\n",
    " \n",
    "Constraints\n",
    "\n",
    " - Values coming from users will be strings. Ensure that you convert these values to numbers before doing the math.\n",
    "\n",
    " - Keep the inputs and outputs separate from the numerical conversions and other processing.\n",
    "\n",
    " - Generate a single output statement with line breaks in the appropriate spots."
   ]
  },
  {
   "cell_type": "code",
   "execution_count": 32,
   "metadata": {
    "collapsed": false
   },
   "outputs": [
    {
     "name": "stdout",
     "output_type": "stream",
     "text": [
      "What is the first number?1\n",
      "What is the second number?2\n",
      "1.0 + 2.0 = 3.0\n",
      "1.0 - 2.0 = -1.0\n",
      "1.0 * 2.0 = 2.0\n",
      "1.0 / 2.0 = 0.5\n",
      "\n"
     ]
    }
   ],
   "source": [
    "def problem4():\n",
    "    try:\n",
    "        #input\n",
    "        x = float(input(\"What is the first number?\"))\n",
    "        y = float(input (\"What is the second number?\"))\n",
    "        \n",
    "        #calculations\n",
    "        addition = x + y\n",
    "        substraction = x - y\n",
    "        multiplication = x * y\n",
    "        division = x / y\n",
    "        \n",
    "        #output\n",
    "        print (\"{x} + {y} = {addition}\\n\" \\\n",
    "               \"{x} - {y} = {substraction}\\n\" \\\n",
    "               \"{x} * {y} = {multiplication}\\n\" \\\n",
    "               \"{x} / {y} = {division}\\n\" \\\n",
    "               .format( x=x,\\\n",
    "                        y=y,\\\n",
    "                        addition=str(addition),\\\n",
    "                        substraction=str(substraction),\\\n",
    "                        multiplication=str(multiplication),\\\n",
    "                        division=str(division)))\n",
    "    except ValueError:\n",
    "        print(\"Only numbers are allowed\")\n",
    "problem4()"
   ]
  },
  {
   "cell_type": "markdown",
   "metadata": {},
   "source": [
    "**Problem #5**\n",
    "\n",
    "Create a program that determines how many years you have left until retirement and the year you can retire. It should prompt for your current age and the age you want to retire and display the output as shown in the example that follows.\n",
    "\n",
    "Example Output\n",
    " \t\n",
    " - What is your current age? 25\t\n",
    " - At what age would you like to retire? 65\t\n",
    " - You have 40 years left until you can retire.\t\n",
    " - It's 2015, so you can retire in 2055.\n",
    "\n",
    "Constraints\n",
    "\n",
    " - Again, be sure to convert the input to numerical data before doing any math.\n",
    "\n",
    " - Don’t hard-code the current year into your program. Get it from the system time via your programming language. To do this, see the following stackoverflow thread: http://stackoverflow.com/questions/30071886/how-to-get-current-time-in-python-and-break-up-into-year-month-day-hour-minu"
   ]
  },
  {
   "cell_type": "code",
   "execution_count": 33,
   "metadata": {
    "collapsed": false
   },
   "outputs": [
    {
     "name": "stdout",
     "output_type": "stream",
     "text": [
      "What is your current age? 40\n",
      "At what age would you like to retire? 75\n",
      "You have 35 years left until you can retire. It's 2017, so you can retire in 2052\n"
     ]
    }
   ],
   "source": [
    "def problem5():    \n",
    "    import datetime\n",
    "    try:\n",
    "        #inputs\n",
    "        year = datetime.datetime.now().year\n",
    "        currentAge = int(input(\"What is your current age? \"))\n",
    "        retireAge = int(input(\"At what age would you like to retire? \"))\n",
    "        \n",
    "        #calculations\n",
    "        yearsBeforeRetire = retireAge - currentAge\n",
    "        \n",
    "        #output\n",
    "        print (\"You have {yearsBeforeRetire} years left until you can retire. \" \\\n",
    "                \"It's {year}, so you can retire in {retireYear}\"\\\n",
    "               .format(yearsBeforeRetire=str(yearsBeforeRetire),\\\n",
    "                       year=str(year),\\\n",
    "                       retireYear = str(year + yearsBeforeRetire)))\n",
    "    except ValueError:\n",
    "        print(\"Only integers are allowed\")  \n",
    "problem5()        "
   ]
  },
  {
   "cell_type": "markdown",
   "metadata": {},
   "source": [
    "**Problem #6**\n",
    "\n",
    "Create a program that calculates the area of a room. Prompt the user for the length and width of the room in feet. Then display the area in both square feet and square meters.\n",
    "\n",
    "Example Output\n",
    "\n",
    " - What is the length of the room in feet? 15\n",
    " - What is the width of the room in feet? 20\n",
    " - You entered dimensions of 15 feet by 20 feet.\n",
    " - The area is\n",
    " - 300 square feet\n",
    " - 27.871 square meters\n",
    " \n",
    "The formula for this conversion is\n",
    "\n",
    "![Alt](https://www.safaribooksonline.com/library/view/exercises-for-programmers/9781680501513/images/_pragprog/svg-0001.png \"formula\")\n",
    "\n",
    "Constraints\n",
    "\n",
    " - Keep the calculations separate from the output.\n",
    "\n",
    " - Use a constant to hold the conversion factor."
   ]
  },
  {
   "cell_type": "code",
   "execution_count": 35,
   "metadata": {
    "collapsed": false
   },
   "outputs": [
    {
     "name": "stdout",
     "output_type": "stream",
     "text": [
      "What is the length of the room in feet?12\n",
      "What is the width of the room in feet?12\n",
      "You entered dimensions of 12.0 feet by 12.0 feet.\n",
      "The area is \n",
      " 144.0 square feet\n",
      " 13.38 square meters\n"
     ]
    }
   ],
   "source": [
    "def problem6():\n",
    "    conversionFactor = 0.09290304\n",
    "    try:\n",
    "        #input\n",
    "        length = float(input(\"What is the length of the room in feet?\"))\n",
    "        width = float(input(\"What is the width of the room in feet?\"))\n",
    "        \n",
    "        #calculations\n",
    "        area = length * width\n",
    "        metricArea = area * conversionFactor\n",
    "        \n",
    "        #outputs\n",
    "        print (\"You entered dimensions of {length} feet by {width} feet.\\n\" \\\n",
    "               \"The area is \\n {area} square feet\\n {metricArea} square meters\" \\\n",
    "              .format(length=str(length),\\\n",
    "                      width=str(width),\\\n",
    "                      area=str(area),\\\n",
    "                      metricArea=round(metricArea,2)))\n",
    "    except ValueError:\n",
    "        print(\"Only numbers are allowed\")\n",
    "        \n",
    "problem6()        "
   ]
  },
  {
   "cell_type": "markdown",
   "metadata": {},
   "source": [
    "**Problem #7**\n",
    "\n",
    "Write a program to evenly divide pizzas. Prompt for the number of people, the number of pizzas, and the number of slices per pizza. Ensure that the number of pieces comes out even. Display the number of pieces of pizza each person should get. If there are leftovers, show the number of leftover pieces.\n",
    "\n",
    "Example Output\n",
    "\n",
    " - How many people? 8\n",
    "\t\n",
    " - How many pizzas do you have? 2\n",
    "\n",
    " - How many slices per pizza? 8\n",
    "\t\n",
    " - 8 people with 2 pizzas\n",
    "\n",
    " - Each person gets 2 pieces of pizza.\n",
    "\t\n",
    " - There are 0 leftover pieces."
   ]
  },
  {
   "cell_type": "code",
   "execution_count": 36,
   "metadata": {
    "collapsed": false
   },
   "outputs": [
    {
     "name": "stdout",
     "output_type": "stream",
     "text": [
      "How many people?15\n",
      "How many pizzas do you have?2\n",
      "How many slices per pizza? 8\n",
      "15 people with 2 pizzas\n",
      "Each person gets 1 pieces of pizza\n",
      "There are 1 leftover pieces.\n"
     ]
    }
   ],
   "source": [
    " def problem7():\n",
    "    try:\n",
    "        #input\n",
    "        people = int(input(\"How many people?\"))\n",
    "        pizzas = int(input(\"How many pizzas do you have?\"))\n",
    "        slices = int(input(\"How many slices per pizza? \"))\n",
    "        \n",
    "        #calculations\n",
    "        slicesPerPerson = int((pizzas*slices)/people)\n",
    "        reminder = (pizzas*slices)%people\n",
    "        \n",
    "        #output\n",
    "        print(\"{pe} people with {pi} pizzas\\n\".format(pe=str(people),pi=str(pizzas))\\\n",
    "               +\"Each person gets {s} pieces of pizza\\nThere are {r} leftover pieces.\" \\\n",
    "             .format(s=str(slicesPerPerson),\\\n",
    "                     r=str(reminder)))\n",
    "    except ValueError:\n",
    "        print(\"Only numbers are allowed\")    \n",
    "        \n",
    "problem7()       "
   ]
  },
  {
   "cell_type": "markdown",
   "metadata": {},
   "source": [
    "**Problem #8**\n",
    "\n",
    "Calculate gallons of paint needed to paint the ceiling of a room. Prompt for the length and width, and assume one gallon covers 350 square feet. Display the number of gallons needed to paint the ceiling as a whole number.\n",
    "\n",
    "Example Output\n",
    " \t\n",
    " - You will need to purchase 2 gallons of \n",
    " - paint to cover 360 square feet.\n",
    " \n",
    " Remember, you can’t buy a partial gallon of paint. You must round up to the next whole gallon.\n",
    "\n",
    "Constraints\n",
    "\n",
    " - Use a constant to hold the conversion rate.\n",
    "\n",
    " - Ensure that you round up to the next whole number."
   ]
  },
  {
   "cell_type": "code",
   "execution_count": 37,
   "metadata": {
    "collapsed": false
   },
   "outputs": [
    {
     "name": "stdout",
     "output_type": "stream",
     "text": [
      "What is the room length? (in square feet)12\n",
      "What is the room width? (in square feet)12\n",
      "You will need to purchase 1 gallons of \n",
      "paint to cover 144 square feet.\n"
     ]
    }
   ],
   "source": [
    "import math\n",
    "\n",
    "def problem8():\n",
    "    conversionFactor = 350\n",
    "    try:\n",
    "        #input:\n",
    "        length = int(input(\"What is the room length? (in square feet)\"))\n",
    "        width = int(input(\"What is the room width? (in square feet)\"))\n",
    "        \n",
    "        #calulcations\n",
    "        area = length*width\n",
    "        gallons = int(math.ceil(area/conversionFactor))\n",
    "        \n",
    "        #outputs\n",
    "        print(\"You will need to purchase \" + str(gallons) + \" gallons of \\n\" \\\n",
    "              \"paint to cover \" + str(area) + \" square feet.\")\n",
    "    except ValueError:\n",
    "        print(\"Only numbers are allowed\")\n",
    "        \n",
    "problem8()        "
   ]
  },
  {
   "cell_type": "markdown",
   "metadata": {},
   "source": [
    "**Problem #9**\n",
    "\n",
    "Create a simple self-checkout system. Prompt for the prices and quantities of three items. Calculate the subtotal of the items. Then calculate the tax using a tax rate of 5.5%. Print out the line items with the quantity and total, and then print out the subtotal, tax amount, and total.\n",
    "\n",
    "Example Output\n",
    " \t\n",
    "  Enter the price of item 1: 25\n",
    "  \n",
    "  Enter the quantity of item 1: 2\n",
    "  \n",
    "  Enter the price of item 2: 10\n",
    "  \n",
    "  Enter the quantity of item 2: 1\n",
    "  \n",
    "  Enter the price of item 3: 4\n",
    "  \n",
    "  Enter the quantity of item 3: 1\n",
    "  \n",
    "  Subtotal: $64.00\n",
    "  \n",
    "  Tax: $3.52\n",
    "  \n",
    "  Total: $67.52\n",
    " \n",
    "Constraints\n",
    "\n",
    " - Keep the input, processing, and output parts of your program separate. Collect the input, then do the math operations and string building, and then print out the output.\n",
    "\n",
    " - Be sure you explicitly convert input to numerical data before doing any calculations."
   ]
  },
  {
   "cell_type": "code",
   "execution_count": 42,
   "metadata": {
    "collapsed": false
   },
   "outputs": [
    {
     "name": "stdout",
     "output_type": "stream",
     "text": [
      "Enter price of item 1: 22\n",
      "Enter quantity of item 1: 22\n",
      "Enter price of item 2: 33\n",
      "Enter quantity of item 2: 33\n",
      "Enter price of item 3: 44\n",
      "Enter quantity of item 3: 44\n",
      "Subtotal: 3509.0\n",
      "Tax: 192.995\n",
      "Total: 3701.995\n"
     ]
    }
   ],
   "source": [
    "from functools import reduce\n",
    "\n",
    "def problem9():\n",
    "    prices = []\n",
    "    quantity = []\n",
    "    numOfItems = 3\n",
    "    taxRate = 0.055\n",
    "\n",
    "    try:\n",
    "        #input\n",
    "        for item in range(numOfItems):\n",
    "            prices.append(float(input(\"Enter price of item \" + str(item+1) + \": \")))\n",
    "            quantity.append(int(input(\"Enter quantity of item \" + str(item+1) + \": \")))\n",
    "\n",
    "        #calculations\n",
    "        zipped = list(zip(prices,quantity))    \n",
    "        mapped = map((lambda x: x[0] * x[1]),zipped)\n",
    "        subtotal = reduce((lambda acc, x : acc + x) ,mapped)\n",
    "        tax = subtotal * taxRate\n",
    "        total = subtotal + tax\n",
    "\n",
    "        #output\n",
    "        print(\"Subtotal: {subtotal}\".format(subtotal=str(subtotal)))\n",
    "        print(\"Tax: {tax}\".format(tax=str(tax)))\n",
    "        print(\"Total: {total}\".format(total=str(total)))\n",
    "    except ValueError:\n",
    "        print(\"Only numbers are allowed\")      \n",
    "\n",
    "problem9()"
   ]
  },
  {
   "cell_type": "markdown",
   "metadata": {},
   "source": [
    "**Program #10**\n",
    "\n",
    "Create a program that computes simple interest. Prompt for the principal amount, the rate as a percentage, and the time, and display the amount accrued (principal + interest).\n",
    "\n",
    "The formula for simple interest is A = P(1 + rt), where P is the principal amount, r is the annual rate of interest, t is the number of years the amount is invested, and A is the amount at the end of the investment.\n",
    "\n",
    "Example Output\n",
    " \t\n",
    " - Enter the principal: 1500\n",
    " \t\n",
    " - Enter the rate of interest: 4.3\n",
    " \t\n",
    " - Enter the number of years: 4\n",
    " \t\n",
    " - After 4 years at 4.3%, the investment will\n",
    " \t\n",
    " - be worth $1758.\n",
    "\n",
    "Constraints\n",
    "\n",
    " - Prompt for the rate as a percentage (like 15, not .15). Divide the input by 100 in your program.\n",
    "\n",
    " - Ensure that fractions of a cent are rounded up to the next penny.\n",
    "\n",
    " - Ensure that the output is formatted as money."
   ]
  },
  {
   "cell_type": "code",
   "execution_count": 39,
   "metadata": {
    "collapsed": false
   },
   "outputs": [
    {
     "name": "stdout",
     "output_type": "stream",
     "text": [
      "Enter the principal: 12\n",
      "Enter the rate of interest: 2\n",
      "Enter the number of years: 5\n",
      "After 5 years at 0.02%, the investment will \n",
      "be worth $13.2\n"
     ]
    }
   ],
   "source": [
    "def problem10():\n",
    "    try:\n",
    "        #input\n",
    "        p = float(input(\"Enter the principal: \"))\n",
    "        r = int(input(\"Enter the rate of interest: \")) / 100\n",
    "        t = int(input(\"Enter the number of years: \"))\n",
    "\n",
    "        #calculations\n",
    "        a = p*(1 + r*t)\n",
    "\n",
    "        #output\n",
    "        print(\"After {t} years at {r}%, the investment will \\nbe worth ${w}\"\\\n",
    "              .format(t=str(t),r=str(r),w=str(round(a,2))))\n",
    "\n",
    "    except ValueError:\n",
    "        print(\"Only numbers are allowed\")\n",
    "\n",
    "problem10()"
   ]
  }
 ],
 "metadata": {
  "anaconda-cloud": {},
  "kernelspec": {
   "display_name": "Python [default]",
   "language": "python",
   "name": "python3"
  },
  "language_info": {
   "codemirror_mode": {
    "name": "ipython",
    "version": 3
   },
   "file_extension": ".py",
   "mimetype": "text/x-python",
   "name": "python",
   "nbconvert_exporter": "python",
   "pygments_lexer": "ipython3",
   "version": "3.5.2"
  }
 },
 "nbformat": 4,
 "nbformat_minor": 1
}
