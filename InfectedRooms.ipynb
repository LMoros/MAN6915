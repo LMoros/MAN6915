{
 "cells": [
  {
   "cell_type": "code",
   "execution_count": 8,
   "metadata": {
    "collapsed": false
   },
   "outputs": [],
   "source": [
    "import pandas as pd\n",
    "import numpy as np\n",
    "import random "
   ]
  },
  {
   "cell_type": "code",
   "execution_count": 204,
   "metadata": {
    "collapsed": false
   },
   "outputs": [],
   "source": [
    "class visitor:\n",
    "    def __init__(self, vid, numberOfFloors, roomsPerFloor, contagious):\n",
    "        self.id = vid\n",
    "        self.contagiousDegree = random.uniform(0.1,0.6) if contagious else 0\n",
    "        # define number of visit\n",
    "        numberOfVisits = random.randint(1, numberOfFloors * roomsPerFloor)\n",
    "        visitedRooms = []\n",
    "        self.itinerary = [self._decideRoom(numberOfFloors, roomsPerFloor, visitedRooms, None)\\\n",
    "                            for visit in range(1, numberOfVisits + 1)]\n",
    "\n",
    "    def _decideRoom(self, numberOfFloors, roomsPerFloor, visitedRooms, currentFloor):\n",
    "            while(True):\n",
    "                floor = self._decideFloor(numberOfFloors, currentFloor)\n",
    "                room = random.randint(1, roomsPerFloor)\n",
    "                if (floor, room) not in visitedRooms:\n",
    "                    visitedRooms.append((floor, room))\n",
    "                    return {'floor':floor, 'room':room, 'visitorId':self.id, 'contagiousDegree':self.contagiousDegree}\n",
    "\n",
    "    def _decideFloor(self, numberOfFloors: int, currentFloor: int):\n",
    "            if currentFloor==None:  # no current floor, has to be first room in itinerary             \n",
    "                # decide start floor\n",
    "                return random.randint(1, numberOfFloors)\n",
    "            else:\n",
    "                # decide if stay in current floor or move to another floor\n",
    "                stayInFloor = random.randint(0, 1)\n",
    "                if stayInFloor == 1:\n",
    "                    # stay in current floor\n",
    "                    return currentFloor\n",
    "\n",
    "                # else, move to another floor\n",
    "                # decide if use elevator\n",
    "                useElevator = random.randint(0, 1)\n",
    "                if useElevator == 1:\n",
    "                    # use elevator and move to any other floor in building (excpet current floor)\n",
    "                    while (True):\n",
    "                        nextFloor = random.randint(1, numberOfFloors)\n",
    "                        if nextFloor != currentFloor:\n",
    "                            return nextFloor\n",
    "\n",
    "                # else, don't use elevator, use stairs instead\n",
    "                goOneFloorUpstairs = random.randint(0, 1)\n",
    "                if goOneFloorUpstairs == 0 and currentFloor != 1:\n",
    "                    # don't go upstairs, go downstairs one floor\n",
    "                    return currentFloor - 1\n",
    "                    # else, go upstairs one floor\n",
    "                return currentFloor + 1"
   ]
  },
  {
   "cell_type": "code",
   "execution_count": 301,
   "metadata": {
    "collapsed": false
   },
   "outputs": [],
   "source": [
    "roomsPerFloor = 4\n",
    "numberOfFloors = 3\n",
    "numberOfVisitor= 5\n",
    "\n",
    "building = [{'floor':floor, 'room':room, 'susceptability':random.uniform(0,1)}\\\n",
    "            for floor in range(1,numberOfFloors+1)\\\n",
    "            for room in range(1,roomsPerFloor+1)]\n",
    "\n",
    "\n",
    "contagiousVisitor = random.randint(1,numberOfVisitor)\n",
    "\n",
    "itineraries = [visitor(vid,numberOfFloors,roomsPerFloor,contagiousVisitor==vid).itinerary\\\n",
    "          for vid in range(1,numberOfVisitor+1)]\n",
    "\n",
    "infected = [{'floor':visit['floor'], 'room':visit['room']}\\\n",
    "            for itinerary in itineraries\n",
    "            for visit in itinerary\n",
    "            for r in building\n",
    "            if visit['contagiousDegree']>0 and\n",
    "               r['floor']==visit['floor'] and\n",
    "               r['room']==visit['room'] and\n",
    "               r['susceptability']+visit['contagiousDegree'] > 0.9]\n"
   ]
  },
  {
   "cell_type": "code",
   "execution_count": 302,
   "metadata": {
    "collapsed": false
   },
   "outputs": [
    {
     "name": "stdout",
     "output_type": "stream",
     "text": [
      "building\n"
     ]
    },
    {
     "data": {
      "text/html": [
       "<div>\n",
       "<table border=\"1\" class=\"dataframe\">\n",
       "  <thead>\n",
       "    <tr style=\"text-align: right;\">\n",
       "      <th></th>\n",
       "      <th>floor</th>\n",
       "      <th>room</th>\n",
       "      <th>susceptability</th>\n",
       "    </tr>\n",
       "  </thead>\n",
       "  <tbody>\n",
       "    <tr>\n",
       "      <th>0</th>\n",
       "      <td>1</td>\n",
       "      <td>1</td>\n",
       "      <td>0.190944</td>\n",
       "    </tr>\n",
       "    <tr>\n",
       "      <th>1</th>\n",
       "      <td>1</td>\n",
       "      <td>2</td>\n",
       "      <td>0.630669</td>\n",
       "    </tr>\n",
       "    <tr>\n",
       "      <th>2</th>\n",
       "      <td>1</td>\n",
       "      <td>3</td>\n",
       "      <td>0.595357</td>\n",
       "    </tr>\n",
       "    <tr>\n",
       "      <th>3</th>\n",
       "      <td>1</td>\n",
       "      <td>4</td>\n",
       "      <td>0.122601</td>\n",
       "    </tr>\n",
       "    <tr>\n",
       "      <th>4</th>\n",
       "      <td>2</td>\n",
       "      <td>1</td>\n",
       "      <td>0.532837</td>\n",
       "    </tr>\n",
       "    <tr>\n",
       "      <th>5</th>\n",
       "      <td>2</td>\n",
       "      <td>2</td>\n",
       "      <td>0.280506</td>\n",
       "    </tr>\n",
       "    <tr>\n",
       "      <th>6</th>\n",
       "      <td>2</td>\n",
       "      <td>3</td>\n",
       "      <td>0.880787</td>\n",
       "    </tr>\n",
       "    <tr>\n",
       "      <th>7</th>\n",
       "      <td>2</td>\n",
       "      <td>4</td>\n",
       "      <td>0.997258</td>\n",
       "    </tr>\n",
       "    <tr>\n",
       "      <th>8</th>\n",
       "      <td>3</td>\n",
       "      <td>1</td>\n",
       "      <td>0.487334</td>\n",
       "    </tr>\n",
       "    <tr>\n",
       "      <th>9</th>\n",
       "      <td>3</td>\n",
       "      <td>2</td>\n",
       "      <td>0.263014</td>\n",
       "    </tr>\n",
       "    <tr>\n",
       "      <th>10</th>\n",
       "      <td>3</td>\n",
       "      <td>3</td>\n",
       "      <td>0.569536</td>\n",
       "    </tr>\n",
       "    <tr>\n",
       "      <th>11</th>\n",
       "      <td>3</td>\n",
       "      <td>4</td>\n",
       "      <td>0.373268</td>\n",
       "    </tr>\n",
       "  </tbody>\n",
       "</table>\n",
       "</div>"
      ],
      "text/plain": [
       "    floor  room  susceptability\n",
       "0       1     1        0.190944\n",
       "1       1     2        0.630669\n",
       "2       1     3        0.595357\n",
       "3       1     4        0.122601\n",
       "4       2     1        0.532837\n",
       "5       2     2        0.280506\n",
       "6       2     3        0.880787\n",
       "7       2     4        0.997258\n",
       "8       3     1        0.487334\n",
       "9       3     2        0.263014\n",
       "10      3     3        0.569536\n",
       "11      3     4        0.373268"
      ]
     },
     "execution_count": 302,
     "metadata": {},
     "output_type": "execute_result"
    }
   ],
   "source": [
    "print('building')\n",
    "pd.DataFrame(building)"
   ]
  },
  {
   "cell_type": "code",
   "execution_count": 303,
   "metadata": {
    "collapsed": false
   },
   "outputs": [
    {
     "name": "stdout",
     "output_type": "stream",
     "text": [
      "itineraries\n",
      "floor: 3 room:3 vid: 1 contagiousDegree: 0\n",
      "floor: 1 room:4 vid: 1 contagiousDegree: 0\n",
      "floor: 2 room:3 vid: 1 contagiousDegree: 0\n",
      "floor: 3 room:1 vid: 1 contagiousDegree: 0\n",
      "floor: 3 room:2 vid: 1 contagiousDegree: 0\n",
      "floor: 1 room:1 vid: 1 contagiousDegree: 0\n",
      "floor: 2 room:3 vid: 2 contagiousDegree: 0\n",
      "floor: 2 room:2 vid: 2 contagiousDegree: 0\n",
      "floor: 3 room:4 vid: 2 contagiousDegree: 0\n",
      "floor: 2 room:1 vid: 2 contagiousDegree: 0\n",
      "floor: 1 room:2 vid: 2 contagiousDegree: 0\n",
      "floor: 3 room:1 vid: 2 contagiousDegree: 0\n",
      "floor: 2 room:4 vid: 2 contagiousDegree: 0\n",
      "floor: 3 room:2 vid: 2 contagiousDegree: 0\n",
      "floor: 1 room:3 vid: 2 contagiousDegree: 0\n",
      "floor: 2 room:1 vid: 3 contagiousDegree: 0.36013496065457284\n",
      "floor: 1 room:1 vid: 3 contagiousDegree: 0.36013496065457284\n",
      "floor: 1 room:2 vid: 3 contagiousDegree: 0.36013496065457284\n",
      "floor: 2 room:2 vid: 3 contagiousDegree: 0.36013496065457284\n",
      "floor: 2 room:4 vid: 3 contagiousDegree: 0.36013496065457284\n",
      "floor: 1 room:4 vid: 3 contagiousDegree: 0.36013496065457284\n",
      "floor: 1 room:2 vid: 4 contagiousDegree: 0\n",
      "floor: 1 room:2 vid: 5 contagiousDegree: 0\n",
      "floor: 2 room:1 vid: 5 contagiousDegree: 0\n",
      "floor: 2 room:3 vid: 5 contagiousDegree: 0\n",
      "floor: 3 room:3 vid: 5 contagiousDegree: 0\n",
      "floor: 3 room:1 vid: 5 contagiousDegree: 0\n",
      "floor: 2 room:4 vid: 5 contagiousDegree: 0\n"
     ]
    }
   ],
   "source": [
    "print('itineraries')\n",
    "print(\"\\n\".join([\"floor: {} room:{} vid: {} contagiousDegree: {}\".format(\n",
    "                 v[\"floor\"], v[\"room\"], v[\"visitorId\"], v[\"contagiousDegree\"]) \n",
    "                 for itinerary in itineraries\n",
    "                 for v in itinerary\n",
    "                 #if v[\"contagiousDegree\"] >0\n",
    "                ]))"
   ]
  },
  {
   "cell_type": "code",
   "execution_count": 304,
   "metadata": {
    "collapsed": false
   },
   "outputs": [
    {
     "name": "stdout",
     "output_type": "stream",
     "text": [
      "infected\n"
     ]
    },
    {
     "data": {
      "text/html": [
       "<div>\n",
       "<table border=\"1\" class=\"dataframe\">\n",
       "  <thead>\n",
       "    <tr style=\"text-align: right;\">\n",
       "      <th></th>\n",
       "      <th>floor</th>\n",
       "      <th>room</th>\n",
       "    </tr>\n",
       "  </thead>\n",
       "  <tbody>\n",
       "    <tr>\n",
       "      <th>0</th>\n",
       "      <td>1</td>\n",
       "      <td>2</td>\n",
       "    </tr>\n",
       "    <tr>\n",
       "      <th>1</th>\n",
       "      <td>2</td>\n",
       "      <td>4</td>\n",
       "    </tr>\n",
       "  </tbody>\n",
       "</table>\n",
       "</div>"
      ],
      "text/plain": [
       "   floor  room\n",
       "0      1     2\n",
       "1      2     4"
      ]
     },
     "execution_count": 304,
     "metadata": {},
     "output_type": "execute_result"
    }
   ],
   "source": [
    "print('infected')\n",
    "pd.DataFrame(infected)"
   ]
  },
  {
   "cell_type": "code",
   "execution_count": 305,
   "metadata": {
    "collapsed": false
   },
   "outputs": [
    {
     "data": {
      "text/plain": [
       "{2, 3, 4, 5}"
      ]
     },
     "execution_count": 305,
     "metadata": {},
     "output_type": "execute_result"
    }
   ],
   "source": [
    "suspiciousVisitors = set([v['visitorId']\n",
    "                      for visits in itineraries \n",
    "                      for v in visits \n",
    "                      for i in infected \n",
    "                      if v['floor']==i['floor']\n",
    "                         and v['room']==i['room']])\n",
    "suspiciousVisitors "
   ]
  },
  {
   "cell_type": "code",
   "execution_count": 306,
   "metadata": {
    "collapsed": false
   },
   "outputs": [
    {
     "data": {
      "text/plain": [
       "Counter({2: 2, 3: 2, 4: 1, 5: 2})"
      ]
     },
     "execution_count": 306,
     "metadata": {},
     "output_type": "execute_result"
    }
   ],
   "source": [
    "from collections import Counter\n",
    " \n",
    "countInfectedVisits = Counter([v['visitorId']\n",
    "                      for visits in itineraries \n",
    "                      for v in visits \n",
    "                      for i in infected \n",
    "                      if v['floor']==i['floor']\n",
    "                         and v['room']==i['room']])\n",
    "countInfectedVisits "
   ]
  },
  {
   "cell_type": "code",
   "execution_count": 307,
   "metadata": {
    "collapsed": false
   },
   "outputs": [
    {
     "data": {
      "text/plain": [
       "dict_items([(1, 6), (2, 9), (3, 6), (4, 1), (5, 6)])"
      ]
     },
     "execution_count": 307,
     "metadata": {},
     "output_type": "execute_result"
    }
   ],
   "source": [
    "countVisits = Counter([v['visitorId']\n",
    "                      for visits in itineraries \n",
    "                      for v in visits])\n",
    "countVisits.items()"
   ]
  },
  {
   "cell_type": "code",
   "execution_count": 308,
   "metadata": {
    "collapsed": false
   },
   "outputs": [
    {
     "data": {
      "text/plain": [
       "[(2, 0.2222222222222222),\n",
       " (3, 0.3333333333333333),\n",
       " (4, 1.0),\n",
       " (5, 0.3333333333333333)]"
      ]
     },
     "execution_count": 308,
     "metadata": {},
     "output_type": "execute_result"
    }
   ],
   "source": [
    "ratios = [(vid,vi/v)\n",
    "         for vid, v in countVisits.items()\n",
    "         for visitorId, vi in countInfectedVisits.items()\n",
    "         if vid==visitorId]\n",
    "ratios"
   ]
  },
  {
   "cell_type": "code",
   "execution_count": 309,
   "metadata": {
    "collapsed": false
   },
   "outputs": [
    {
     "data": {
      "text/html": [
       "<div>\n",
       "<table border=\"1\" class=\"dataframe\">\n",
       "  <thead>\n",
       "    <tr style=\"text-align: right;\">\n",
       "      <th></th>\n",
       "      <th>0</th>\n",
       "      <th>1</th>\n",
       "    </tr>\n",
       "  </thead>\n",
       "  <tbody>\n",
       "    <tr>\n",
       "      <th>2</th>\n",
       "      <td>4</td>\n",
       "      <td>1.0</td>\n",
       "    </tr>\n",
       "  </tbody>\n",
       "</table>\n",
       "</div>"
      ],
      "text/plain": [
       "   0    1\n",
       "2  4  1.0"
      ]
     },
     "execution_count": 309,
     "metadata": {},
     "output_type": "execute_result"
    }
   ],
   "source": [
    "df = pd.DataFrame(ratios)\n",
    "mainSuspect = df[df.iloc[:,1]==max(df.iloc[:,1])]\n",
    "mainSuspect"
   ]
  }
 ],
 "metadata": {
  "kernelspec": {
   "display_name": "Python [conda root]",
   "language": "python",
   "name": "conda-root-py"
  },
  "language_info": {
   "codemirror_mode": {
    "name": "ipython",
    "version": 3
   },
   "file_extension": ".py",
   "mimetype": "text/x-python",
   "name": "python",
   "nbconvert_exporter": "python",
   "pygments_lexer": "ipython3",
   "version": "3.5.2"
  }
 },
 "nbformat": 4,
 "nbformat_minor": 1
}
